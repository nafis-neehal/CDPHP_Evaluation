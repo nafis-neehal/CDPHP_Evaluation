{
 "cells": [
  {
   "cell_type": "markdown",
   "metadata": {},
   "source": [
    "### Use Evaluation"
   ]
  },
  {
   "cell_type": "code",
   "execution_count": 1,
   "metadata": {},
   "outputs": [],
   "source": [
    "%reload_ext autoreload\n",
    "%autoreload 2\n",
    "#ignore warnings.\n",
    "def warn(*args, **kwargs):\n",
    "    pass\n",
    "import warnings\n",
    "warnings.warn = warn"
   ]
  },
  {
   "cell_type": "code",
   "execution_count": 13,
   "metadata": {},
   "outputs": [],
   "source": [
    "#Set config. \n",
    "import sys, datetime, os, importlib\n",
    "from pathlib import Path\n",
    "import pandas as pd\n",
    "pd.set_option('display.max_columns', 9999)\n",
    "sys.path.append(os.path.join(Path.cwd().parent, 'modules'))\n",
    "import evaluation as ev\n",
    "importlib.reload(ev)\n",
    "#These are configuration prediction files\n",
    "c_p={'dir': '../data/predictions/tests/',\n",
    "         'file': 'tests_100_shift0.csv',\n",
    "         'per_col': 'person_id',\n",
    "         'date_col': 'yyyymm',\n",
    "         'date_for': '%Y%m'\n",
    "        }\n",
    "#These are configuration referral files\n",
    "c_r={ 'dir': '../data/referrals/',\n",
    "         'file': 'test.csv',\n",
    "         'per_col': 'person_id',\n",
    "         'date_col_in': 'date',\n",
    "         'date_for_in': '%m/%d/%Y',\n",
    "         'date_col_out': 'yyyymm', \n",
    "         'date_for_out': '%Y%m', \n",
    "         'reason_col': 'class'\n",
    "        }\n",
    "#These are configuration for the experiment\n",
    "c_e={    'experiment': 'Initial Tests',\n",
    "         'dir': '../results/',\n",
    "         'file': 'results.csv',\n",
    "         'save':  True,\n",
    "         'append': False,\n",
    "         'k': [10], #k is used the set the conversion from prob to class prediction\n",
    "         'landmarks': [[0,3], [0,6], [0,12]],\n",
    "         'ref_target': 'ref',\n",
    "         'pred_target': 'pref',\n",
    "         'eval_date': datetime.date(2017, 1,1)\n",
    "        }"
   ]
  },
  {
   "cell_type": "code",
   "execution_count": 14,
   "metadata": {},
   "outputs": [
    {
     "data": {
      "text/html": [
       "<div>\n",
       "<style scoped>\n",
       "    .dataframe tbody tr th:only-of-type {\n",
       "        vertical-align: middle;\n",
       "    }\n",
       "\n",
       "    .dataframe tbody tr th {\n",
       "        vertical-align: top;\n",
       "    }\n",
       "\n",
       "    .dataframe thead th {\n",
       "        text-align: right;\n",
       "    }\n",
       "</style>\n",
       "<table border=\"1\" class=\"dataframe\">\n",
       "  <thead>\n",
       "    <tr style=\"text-align: right;\">\n",
       "      <th></th>\n",
       "      <th>person_id</th>\n",
       "      <th>date</th>\n",
       "      <th>class</th>\n",
       "    </tr>\n",
       "  </thead>\n",
       "  <tbody>\n",
       "    <tr>\n",
       "      <th>0</th>\n",
       "      <td>1004</td>\n",
       "      <td>1/1/2017</td>\n",
       "      <td>diabetes</td>\n",
       "    </tr>\n",
       "    <tr>\n",
       "      <th>1</th>\n",
       "      <td>1004</td>\n",
       "      <td>1/2/2017</td>\n",
       "      <td>liver</td>\n",
       "    </tr>\n",
       "    <tr>\n",
       "      <th>2</th>\n",
       "      <td>1004</td>\n",
       "      <td>6/2/2017</td>\n",
       "      <td>liver</td>\n",
       "    </tr>\n",
       "    <tr>\n",
       "      <th>3</th>\n",
       "      <td>1005</td>\n",
       "      <td>1/1/2017</td>\n",
       "      <td>liver</td>\n",
       "    </tr>\n",
       "    <tr>\n",
       "      <th>4</th>\n",
       "      <td>1005</td>\n",
       "      <td>1/2/2017</td>\n",
       "      <td>diabetes</td>\n",
       "    </tr>\n",
       "    <tr>\n",
       "      <th>5</th>\n",
       "      <td>1006</td>\n",
       "      <td>6/1/2017</td>\n",
       "      <td>liver</td>\n",
       "    </tr>\n",
       "    <tr>\n",
       "      <th>6</th>\n",
       "      <td>1007</td>\n",
       "      <td>6/1/2017</td>\n",
       "      <td>liver</td>\n",
       "    </tr>\n",
       "    <tr>\n",
       "      <th>7</th>\n",
       "      <td>1007</td>\n",
       "      <td>6/2/2017</td>\n",
       "      <td>liver</td>\n",
       "    </tr>\n",
       "    <tr>\n",
       "      <th>8</th>\n",
       "      <td>2000</td>\n",
       "      <td>10/1/2017</td>\n",
       "      <td>pnemonia</td>\n",
       "    </tr>\n",
       "    <tr>\n",
       "      <th>9</th>\n",
       "      <td>2001</td>\n",
       "      <td>10/1/2017</td>\n",
       "      <td>pnemonia</td>\n",
       "    </tr>\n",
       "  </tbody>\n",
       "</table>\n",
       "</div>"
      ],
      "text/plain": [
       "   person_id       date     class\n",
       "0       1004   1/1/2017  diabetes\n",
       "1       1004   1/2/2017     liver\n",
       "2       1004   6/2/2017     liver\n",
       "3       1005   1/1/2017     liver\n",
       "4       1005   1/2/2017  diabetes\n",
       "5       1006   6/1/2017     liver\n",
       "6       1007   6/1/2017     liver\n",
       "7       1007   6/2/2017     liver\n",
       "8       2000  10/1/2017  pnemonia\n",
       "9       2001  10/1/2017  pnemonia"
      ]
     },
     "execution_count": 14,
     "metadata": {},
     "output_type": "execute_result"
    }
   ],
   "source": [
    "#This is the truth \n",
    "\n",
    "ref=pd.read_csv(c_r['dir']+c_r['file'])\n",
    "ref"
   ]
  },
  {
   "cell_type": "code",
   "execution_count": 9,
   "metadata": {},
   "outputs": [
    {
     "name": "stdout",
     "output_type": "stream",
     "text": [
      "Loading reference dataframe.. test.csv\n",
      "Loading predictions dataframe.. tests_75_shift0.csv\n",
      "Evaluating from: 201701-201704\n",
      "Evaluating from: 201701-201707\n",
      "Evaluating from: 201701-201801\n"
     ]
    }
   ],
   "source": [
    "importlib.reload(ev)\n",
    "results = ev.score_times(c_p, c_r, c_e)\n",
    "results"
   ]
  },
  {
   "cell_type": "markdown",
   "metadata": {},
   "source": [
    "# Multiple different evaluations\n",
    "This is an example of multiple different evaluations. \n"
   ]
  },
  {
   "cell_type": "code",
   "execution_count": 12,
   "metadata": {},
   "outputs": [
    {
     "name": "stdout",
     "output_type": "stream",
     "text": [
      "Loading reference dataframe.. test.csv\n",
      "Loading predictions dataframe.. tests_75_shift-6.csv\n",
      "Evaluating from: 201701-201704\n",
      "Evaluating from: 201701-201707\n",
      "Evaluating from: 201701-201801\n",
      "Loading reference dataframe.. test.csv\n",
      "Loading predictions dataframe.. tests_75_shift-12.csv\n",
      "Evaluating from: 201701-201704\n",
      "Evaluating from: 201701-201707\n",
      "Evaluating from: 201701-201801\n",
      "Loading reference dataframe.. test.csv\n",
      "Loading predictions dataframe.. tests_75_shift0.csv\n",
      "Evaluating from: 201701-201704\n",
      "Evaluating from: 201701-201707\n",
      "Evaluating from: 201701-201801\n",
      "Loading reference dataframe.. test.csv\n",
      "Loading predictions dataframe.. tests_75_shift6.csv\n",
      "Evaluating from: 201701-201704\n",
      "Evaluating from: 201701-201707\n",
      "Evaluating from: 201701-201801\n",
      "Loading reference dataframe.. test.csv\n",
      "Loading predictions dataframe.. tests_100_shift-6.csv\n",
      "Evaluating from: 201701-201704\n",
      "Evaluating from: 201701-201707\n",
      "Evaluating from: 201701-201801\n",
      "Loading reference dataframe.. test.csv\n",
      "Loading predictions dataframe.. tests_100_shift-12.csv\n",
      "Evaluating from: 201701-201704\n",
      "Evaluating from: 201701-201707\n",
      "Evaluating from: 201701-201801\n",
      "Loading reference dataframe.. test.csv\n",
      "Loading predictions dataframe.. tests_100_shift6.csv\n",
      "Evaluating from: 201701-201704\n",
      "Evaluating from: 201701-201707\n",
      "Evaluating from: 201701-201801\n",
      "Loading reference dataframe.. test.csv\n",
      "Loading predictions dataframe.. tests_75_shift12.csv\n",
      "Evaluating from: 201701-201704\n",
      "Evaluating from: 201701-201707\n",
      "Evaluating from: 201701-201801\n",
      "Loading reference dataframe.. test.csv\n",
      "Loading predictions dataframe.. tests_100_shift0.csv\n",
      "Evaluating from: 201701-201704\n",
      "Evaluating from: 201701-201707\n",
      "Evaluating from: 201701-201801\n",
      "Loading reference dataframe.. test.csv\n",
      "Loading predictions dataframe.. starter.csv\n",
      "Evaluating from: 201701-201704\n",
      "Evaluating from: 201701-201707\n",
      "Evaluating from: 201701-201801\n",
      "Loading reference dataframe.. test.csv\n",
      "Loading predictions dataframe.. tests_100_shift12.csv\n",
      "Evaluating from: 201701-201704\n",
      "Evaluating from: 201701-201707\n",
      "Evaluating from: 201701-201801\n"
     ]
    }
   ],
   "source": [
    "importlib.reload(ev)\n",
    "c_e['experiment']='All Tests'\n",
    "c_e['append']= True\n",
    "c_e['file']= 'all_results.csv'\n",
    "\n",
    "pred_files = [f for f in os.listdir(c_p['dir']) if os.path.isfile(os.path.join(c_p['dir'], f))]\n",
    "\n",
    "for file in pred_files:\n",
    "    c_p['file']=file\n",
    "    results = ev.score_times(c_p, c_r, c_e)"
   ]
  },
  {
   "cell_type": "code",
   "execution_count": 11,
   "metadata": {},
   "outputs": [
    {
     "data": {
      "text/plain": [
       "{'experiment': 'All Tests',\n",
       " 'dir': '../results/',\n",
       " 'file': 'results.csv',\n",
       " 'save': True,\n",
       " 'append': False,\n",
       " 'k': [10],\n",
       " 'landmarks': [[0, 3], [0, 6], [0, 12]],\n",
       " 'ref_target': 'ref',\n",
       " 'pred_target': 'pref',\n",
       " 'eval_date': datetime.date(2017, 1, 1)}"
      ]
     },
     "execution_count": 11,
     "metadata": {},
     "output_type": "execute_result"
    }
   ],
   "source": [
    "c_e"
   ]
  },
  {
   "cell_type": "code",
   "execution_count": null,
   "metadata": {},
   "outputs": [],
   "source": []
  }
 ],
 "metadata": {
  "kernelspec": {
   "display_name": "Python [conda env:cadre]",
   "language": "python",
   "name": "conda-env-cadre-py"
  },
  "language_info": {
   "codemirror_mode": {
    "name": "ipython",
    "version": 3
   },
   "file_extension": ".py",
   "mimetype": "text/x-python",
   "name": "python",
   "nbconvert_exporter": "python",
   "pygments_lexer": "ipython3",
   "version": "3.6.8"
  }
 },
 "nbformat": 4,
 "nbformat_minor": 4
}
