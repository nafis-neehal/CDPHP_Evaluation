{
 "cells": [
  {
   "cell_type": "code",
   "execution_count": 54,
   "metadata": {},
   "outputs": [],
   "source": [
    "# def synthetic_prediction_data_generate + ADD_shift\n",
    "# def synthetic_ground_truth_generate\n",
    "# def file preprocess\n",
    "# def evaluation window preprocess\n",
    "# def save_as_CSV (done)\n",
    "# class score (done)\n"
   ]
  },
  {
   "cell_type": "code",
   "execution_count": 55,
   "metadata": {},
   "outputs": [],
   "source": [
    "#imports\n",
    "import pandas as pd\n",
    "import numpy as np\n",
    "import os, sys, itertools as it, random\n",
    "import datetime as dt\n",
    "from datetime import datetime \n",
    "from sklearn.metrics import precision_score, accuracy_score, recall_score, balanced_accuracy_score\n",
    "from sklearn.metrics import f1_score, roc_auc_score, log_loss, roc_curve, brier_score_loss\n",
    "\n",
    "#constants\n",
    "mu = 0\n",
    "sigma = 1"
   ]
  },
  {
   "cell_type": "markdown",
   "metadata": {},
   "source": [
    "<p> Convert mm/dd/yyyy to yyyymm using this - <date>.strftime(\"%Y%m\").astype(int) to convert to yyyymm format from mm/dd/yyyy </p>"
   ]
  },
  {
   "cell_type": "markdown",
   "metadata": {},
   "source": [
    "<H3> File Configurations </H3>"
   ]
  },
  {
   "cell_type": "code",
   "execution_count": 65,
   "metadata": {},
   "outputs": [],
   "source": [
    "def load_configurations():\n",
    "    #configurations of prediction file [column header, format, range etc.]\n",
    "    c_p={\n",
    "            'dir': '../newdata/predictions/',\n",
    "            'file': 'prediction_shift_0.csv',\n",
    "            'number_of_samples': 500,\n",
    "            'id_column': 'person_id',\n",
    "            'id_format': int,\n",
    "            'date_column': 'Date',\n",
    "            'start_date': '2016-01-01',\n",
    "            'end_date': '2018-01-01',\n",
    "            'model_columns': ['lin_reg', 'rand_forest', 'xg_boost', 'sgmm'],\n",
    "            'model_format': int\n",
    "        }\n",
    "\n",
    "    #configurations of referral file [column header, format, range etc.]\n",
    "    c_r={\n",
    "            'dir': '../newdata/referrals/',\n",
    "            'file': 'referral.csv',\n",
    "            'number_of_samples': 25,\n",
    "            'start_date': '2016-01-01',\n",
    "            'end_date': '2018-01-01',\n",
    "            'id_column': 'person_id',\n",
    "            'id_format': int,\n",
    "            'date_column': 'Date'\n",
    "        }"
   ]
  },
  {
   "cell_type": "markdown",
   "metadata": {},
   "source": [
    "<H3> Score Class </H3>"
   ]
  },
  {
   "cell_type": "code",
   "execution_count": 57,
   "metadata": {},
   "outputs": [],
   "source": [
    "class Score:\n",
    "    \n",
    "    def __init__(self):\n",
    "        pass\n",
    "    \n",
    "    def get_precision(y_true, y_predict, average='binary'):\n",
    "        return precision_score(y_true, y_predict, average)\n",
    "    \n",
    "    def get_recall(y_true, y_predict, average='binary'):\n",
    "        return recall_score(y_true, y_predict, average)\n",
    "    \n",
    "    def get_accuracy(y_true, y_predict):\n",
    "        return recall_score(y_true, y_predict)\n",
    "    \n",
    "    def get_balanced_accuracy(y_true, y_predict):\n",
    "        return balanced_accuracy_score(y_true, y_predict)\n",
    "    \n",
    "    def get_f1_score(y_true, y_predict, average='binary'):\n",
    "        return f1_score(y_true, y_predict, average='binary')\n",
    "    \n",
    "    def get_roc_auc_score(y_true, y_predict):\n",
    "        return roc_auc_score(y_true, y_predict)\n",
    "    \n",
    "    def get_log_loss(y_true, y_predict):\n",
    "        return log_loss(y_true, y_predict)\n",
    "    \n",
    "    #need to implement\n",
    "    #prob_from_a_model = [0.8, 0.3, 0.5]\n",
    "    #ground_truth_binary = [1,0,0]\n",
    "    #briar score(ground_truth_binary, prob_from_a_model)\n",
    "    def get_brier_score_loss(y_true, y_prob):\n",
    "        pass\n",
    "    \n",
    "        "
   ]
  },
  {
   "cell_type": "markdown",
   "metadata": {},
   "source": [
    "<H3> HELPER FUNCTIONS </H3>"
   ]
  },
  {
   "cell_type": "code",
   "execution_count": 58,
   "metadata": {},
   "outputs": [],
   "source": [
    "#data = dataframe, file='/relative_path/to/file'\n",
    "def dataframe_to_csv(data, file, append=True):\n",
    "    if append and os.path.exists(file):\n",
    "        with open(file, 'a') as f:\n",
    "            data.to_csv(f, header=False, index = False)\n",
    "    else:\n",
    "        data.to_csv(file, index = False)"
   ]
  },
  {
   "cell_type": "code",
   "execution_count": 59,
   "metadata": {},
   "outputs": [],
   "source": [
    "#generate random date between a range\n",
    "#input in datetime.date format\n",
    "def generate_random_date(start_date, end_date, iteration):\n",
    "    date_list = []\n",
    "    seed = 0\n",
    "    for i in range(iteration):\n",
    "        s_date = datetime.strptime(start_date, '%Y-%m-%d')\n",
    "        e_date = datetime.strptime(end_date, '%Y-%m-%d')\n",
    "        time_between_dates = e_date - s_date\n",
    "        days_between_dates = time_between_dates.days\n",
    "        random.seed(seed)\n",
    "        random_number_of_days = random.randrange(days_between_dates)\n",
    "        random_date = s_date + dt.timedelta(days=random_number_of_days)\n",
    "        random_date = random_date.strftime('%Y-%m-%d')\n",
    "        date_list.append(random_date)\n",
    "        seed += 1\n",
    "    return date_list\n",
    "    "
   ]
  },
  {
   "cell_type": "markdown",
   "metadata": {},
   "source": [
    "<H3> Generate Synthetic Data </H3>"
   ]
  },
  {
   "cell_type": "code",
   "execution_count": 60,
   "metadata": {},
   "outputs": [],
   "source": [
    "def generate_synthetic_prediction_data():\n",
    "    patients = pd.Series(range(0, c_p['number_of_samples'])) #500\n",
    "    date = pd.date_range(c_p['start_date'], c_p['end_date'], freq='MS') #25\n",
    "    data = pd.DataFrame(list(it.product(patients,date)),columns=[c_p['id_column'],c_p['date_column']])\n",
    "    seed = 0\n",
    "    for model in c_p['model_columns']:\n",
    "        np.random.seed(seed)\n",
    "        data[model] = pd.Series(np.random.random((data.shape[0])))\n",
    "        seed+=1\n",
    "    dataframe_to_csv(data, c_p['dir']+c_p['file'], False)"
   ]
  },
  {
   "cell_type": "code",
   "execution_count": 61,
   "metadata": {},
   "outputs": [],
   "source": [
    "def generate_synthetic_ground_truth_data():\n",
    "    seed = 0\n",
    "    np.random.seed(seed)\n",
    "    patients = pd.Series([x for x in np.random.randint(0, c_p['number_of_samples'], c_r['number_of_samples'])])\n",
    "    patients = patients.sort_values(ascending=True).reset_index(drop=True)\n",
    "    date = pd.Series([d for d in generate_random_date(c_r['start_date'], c_r['end_date'], c_r['number_of_samples'])])\n",
    "    data = pd.DataFrame({c_r['id_column']:patients, c_r['date_column']:date})\n",
    "    dataframe_to_csv(data, c_r['dir']+c_r['file'], False)\n"
   ]
  },
  {
   "cell_type": "code",
   "execution_count": 67,
   "metadata": {},
   "outputs": [],
   "source": [
    "if __name__ == \"__main__\":\n",
    "    load_configurations()\n",
    "    generate_synthetic_ground_truth_data()\n",
    "    generate_synthetic_prediction_data()\n",
    "    "
   ]
  }
 ],
 "metadata": {
  "kernelspec": {
   "display_name": "Python 3",
   "language": "python",
   "name": "python3"
  },
  "language_info": {
   "codemirror_mode": {
    "name": "ipython",
    "version": 3
   },
   "file_extension": ".py",
   "mimetype": "text/x-python",
   "name": "python",
   "nbconvert_exporter": "python",
   "pygments_lexer": "ipython3",
   "version": "3.7.3"
  }
 },
 "nbformat": 4,
 "nbformat_minor": 2
}
