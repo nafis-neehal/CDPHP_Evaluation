{
 "cells": [
  {
   "cell_type": "markdown",
   "metadata": {},
   "source": [
    "<H3> Init </H3>"
   ]
  },
  {
   "cell_type": "code",
   "execution_count": 1,
   "metadata": {},
   "outputs": [],
   "source": [
    "%reload_ext autoreload\n",
    "%autoreload 2\n",
    "#ignore warnings.\n",
    "def warn(*args, **kwargs):\n",
    "    pass\n",
    "import warnings\n",
    "warnings.warn = warn"
   ]
  },
  {
   "cell_type": "markdown",
   "metadata": {},
   "source": [
    "<H3> Imports and Constants </H3>"
   ]
  },
  {
   "cell_type": "code",
   "execution_count": 2,
   "metadata": {},
   "outputs": [],
   "source": [
    "#imports\n",
    "import pandas as pd\n",
    "import numpy as np\n",
    "import os, sys, itertools as it, random\n",
    "import datetime as dt\n",
    "from datetime import datetime \n",
    "from sklearn.metrics import precision_score, accuracy_score, recall_score, balanced_accuracy_score\n",
    "from sklearn.metrics import f1_score, roc_auc_score, log_loss, roc_curve, brier_score_loss\n",
    "\n",
    "#constants\n",
    "mu = 0\n",
    "sigma = 1\n",
    "\n",
    "#path\n",
    "sys.path.append('../modules')"
   ]
  },
  {
   "cell_type": "markdown",
   "metadata": {},
   "source": [
    "<H3> File Configurations </H3>"
   ]
  },
  {
   "cell_type": "code",
   "execution_count": 3,
   "metadata": {},
   "outputs": [],
   "source": [
    "def load_configurations():\n",
    "    #configurations of prediction file [column header, format, range etc.]\n",
    "    c_p={\n",
    "            'dir': '../newdata/predictions/',\n",
    "            'file': 'prediction_shift_0.csv',\n",
    "            'number_of_samples': 500,\n",
    "            'id_column': 'person_id',\n",
    "            'id_format': int,\n",
    "            'date_column': 'Date',\n",
    "            'start_date': '2016-01-01',\n",
    "            'end_date': '2018-01-01',\n",
    "            'model_columns': ['lin_reg', 'rand_forest', 'xg_boost', 'sgmm'],\n",
    "            'model_format': int\n",
    "        }\n",
    "\n",
    "    #configurations of referral file [column header, format, range etc.]\n",
    "    c_r={\n",
    "            'dir': '../newdata/referrals/',\n",
    "            'file': 'referral.csv',\n",
    "            'number_of_samples': 25,\n",
    "            'start_date': '2016-01-01',\n",
    "            'end_date': '2018-01-01',\n",
    "            'id_column': 'person_id',\n",
    "            'id_format': int,\n",
    "            'date_column': 'Date',\n",
    "            'day_to_evaluate': 1 #evaluate on day 1 of each month\n",
    "        }\n",
    "    \n",
    "    #configurations for the experiment\n",
    "    c_e={\n",
    "            'experiment': 'Version 1.0',\n",
    "            'dir': '../newdata/results',\n",
    "            'file': 'results.csv',\n",
    "            'thresholding': 0.5,\n",
    "            'top_k': 50,\n",
    "            'window': [[0,3], [0,6], [0,12]],\n",
    "            'eval_method': 'top_k',\n",
    "            'eval_date': pd.to_datetime(dt.date(2017,1,1))\n",
    "        }\n",
    "    \n",
    "    return c_p, c_r, c_e"
   ]
  },
  {
   "cell_type": "markdown",
   "metadata": {},
   "source": [
    "<H3> HELPER FUNCTIONS </H3>"
   ]
  },
  {
   "cell_type": "code",
   "execution_count": 4,
   "metadata": {},
   "outputs": [],
   "source": [
    "#data = dataframe, file='/relative_path/to/file'\n",
    "def dataframe_to_csv(data, file, append=True):\n",
    "    if append and os.path.exists(file):\n",
    "        with open(file, 'a') as f:\n",
    "            data.to_csv(f, header=False, index = False)\n",
    "    else:\n",
    "        data.to_csv(file, index = False)"
   ]
  },
  {
   "cell_type": "code",
   "execution_count": 5,
   "metadata": {},
   "outputs": [],
   "source": [
    "#generate random date between a range\n",
    "#input in datetime.date format\n",
    "def generate_random_date(start_date, end_date, iteration):\n",
    "    date_list = []\n",
    "    seed = 0\n",
    "    for i in range(iteration):\n",
    "        s_date = datetime.strptime(start_date, '%Y-%m-%d')\n",
    "        e_date = datetime.strptime(end_date, '%Y-%m-%d')\n",
    "        time_between_dates = e_date - s_date\n",
    "        days_between_dates = time_between_dates.days\n",
    "        random.seed(seed)\n",
    "        random_number_of_days = random.randrange(days_between_dates)\n",
    "        random_date = s_date + dt.timedelta(days=random_number_of_days)\n",
    "        random_date = random_date.strftime('%Y-%m-%d')\n",
    "        date_list.append(random_date)\n",
    "        seed += 1\n",
    "    \n",
    "    return date_list\n",
    "    "
   ]
  },
  {
   "cell_type": "code",
   "execution_count": 6,
   "metadata": {},
   "outputs": [],
   "source": [
    "#preprocess referral dates\n",
    "#convert any day in any month to the first day of that month in REFERRAL data\n",
    "def convert_dates_ref(c_r):\n",
    "    file_ref = c_r['dir'] + c_r['file']\n",
    "    ref = pd.read_csv(file_ref)\n",
    "    ref_date_column = ref[c_r['date_column']] \n",
    "    for i in range(len(ref_date_column)):\n",
    "        formatted_date = datetime.strptime(ref_date_column[i], '%Y-%m-%d')\n",
    "        new_formatted_date = datetime(formatted_date.year, formatted_date.month, c_r['day_to_evaluate']).strftime('%Y-%m-%d')\n",
    "        ref.at[i,c_r['date_column']] = new_formatted_date\n",
    "        \n",
    "    return ref\n",
    "        \n",
    "    "
   ]
  },
  {
   "cell_type": "code",
   "execution_count": 7,
   "metadata": {},
   "outputs": [],
   "source": [
    "#convert top k probability of a target to 1, O/W to 0 mapping\n",
    "def prob_to_bin(target, k):\n",
    "    ind=np.argpartition(target, -k)[-k:]\n",
    "    target_bin=np.zeros(len(target))\n",
    "    target_bin[ind]=1\n",
    "    return target_bin"
   ]
  },
  {
   "cell_type": "markdown",
   "metadata": {},
   "source": [
    "<H3> Generate Synthetic Data </H3>"
   ]
  },
  {
   "cell_type": "code",
   "execution_count": 8,
   "metadata": {},
   "outputs": [],
   "source": [
    "def generate_synthetic_ground_truth_data(c_p, c_r):\n",
    "    seed = 0\n",
    "    np.random.seed(seed)\n",
    "    patients = pd.Series([x for x in np.random.randint(0, c_p['number_of_samples'], c_r['number_of_samples'])])\n",
    "    patients = patients.sort_values(ascending=True).reset_index(drop=True)\n",
    "    date = pd.Series([d for d in generate_random_date(c_r['start_date'], c_r['end_date'], c_r['number_of_samples'])])\n",
    "    data = pd.DataFrame({c_r['id_column']:patients, c_r['date_column']:date})\n",
    "    dataframe_to_csv(data, c_r['dir']+c_r['file'], False)\n"
   ]
  },
  {
   "cell_type": "code",
   "execution_count": 9,
   "metadata": {},
   "outputs": [],
   "source": [
    "def generate_synthetic_prediction_data(c_p):\n",
    "    patients = pd.Series(range(0, c_p['number_of_samples'])) #500\n",
    "    date = pd.date_range(c_p['start_date'], c_p['end_date'], freq='MS') #25\n",
    "    data = pd.DataFrame(list(it.product(patients,date)),columns=[c_p['id_column'],c_p['date_column']])\n",
    "    seed = 0\n",
    "    for model in c_p['model_columns']:\n",
    "        np.random.seed(seed)\n",
    "        data[model] = pd.Series(np.random.random((data.shape[0])))\n",
    "        seed+=1\n",
    "    dataframe_to_csv(data, c_p['dir']+c_p['file'], False)"
   ]
  },
  {
   "cell_type": "markdown",
   "metadata": {},
   "source": [
    "<H3> Score Class </H3>"
   ]
  },
  {
   "cell_type": "code",
   "execution_count": 23,
   "metadata": {},
   "outputs": [],
   "source": [
    "class Score:\n",
    "    \n",
    "    def __init__(self, model_name):\n",
    "        self.model_name = model_name\n",
    "        self.precision = {}\n",
    "        self.recall = {}\n",
    "        self.accuracy = {}\n",
    "        self.balanced_accuracy = {}\n",
    "        self.f1_score = {}\n",
    "        self.roc_auc_score = {} \n",
    "        self.log_loss = {}\n",
    "        self.brier_score_loss = {}\n",
    "    \n",
    "    def get_precision(self, y_true, y_predict, average='binary'):\n",
    "        return precision_score(y_true, y_predict, average)\n",
    "    \n",
    "    def get_recall(self, y_true, y_predict, average='binary'):\n",
    "        return recall_score(y_true, y_predict, average)\n",
    "    \n",
    "    def get_accuracy(self, y_true, y_predict):\n",
    "        return recall_score(y_true, y_predict)\n",
    "    \n",
    "    def get_balanced_accuracy(self, y_true, y_predict):\n",
    "        return balanced_accuracy_score(y_true, y_predict)\n",
    "    \n",
    "    def get_f1_score(self, y_true, y_predict, average='binary'):\n",
    "        return f1_score(y_true, y_predict, average='binary')\n",
    "    \n",
    "    def get_roc_auc_score(self, y_true, y_predict):\n",
    "        return roc_auc_score(y_true, y_predict)\n",
    "    \n",
    "    def get_log_loss(self, y_true, y_predict):\n",
    "        return log_loss(y_true, y_predict)\n",
    "    #-----------------------------------------------------\n",
    "    #need to implement\n",
    "    #prob_from_a_model = [0.8, 0.3, 0.5]\n",
    "    #ground_truth_binary = [1,0,0]\n",
    "    #briar score(ground_truth_binary, prob_from_a_model)\n",
    "    def get_brier_score_loss(self, y_true, y_predict):\n",
    "        return brier_score_loss(y_true, y_predict)\n",
    "    \n",
    "        "
   ]
  },
  {
   "cell_type": "markdown",
   "metadata": {},
   "source": [
    "<H3> Score Calculation </H3>"
   ]
  },
  {
   "cell_type": "code",
   "execution_count": 11,
   "metadata": {},
   "outputs": [],
   "source": [
    "#pd.to_Datetime(anything) = create datetime object\n",
    "#datetime.strptime(string) -> datetime object\n",
    "#datetime.strftime(datetime) -> string in different formats\n",
    "\n",
    "def evaluate(c_p, c_r, c_e, eval_method='top_k'):\n",
    "    \n",
    "    referral = convert_dates_ref(c_r)\n",
    "    prediction = pd.read_csv(c_p['dir'] + c_p['file'])\n",
    "    \n",
    "    ref_copy = referral.copy()\n",
    "    pred_copy = prediction.copy()\n",
    "    \n",
    "    ref_copy['target'] = pd.Series(np.ones(c_r['number_of_samples'], dtype=float))\n",
    "    ref_copy[c_r['date_column']] = pd.to_datetime(ref_copy[c_r['date_column']])\n",
    "    ref_copy = ref_copy.pivot_table(index=c_r['id_column'], columns=c_r['date_column'], values='target', aggfunc='sum')\n",
    "    ref_copy = ref_copy.fillna(0)\n",
    "\n",
    "    #ref_copy has (1,4,6,8,9,11,12 in 2017 months), don't worry\n",
    "    #now both pred_copy['Date'] and ref_copy['Date'] is in Datetime format instead of previous String format\n",
    "    \n",
    "    pred_copy[c_p['date_column']] = pd.to_datetime(pred_copy[c_p['date_column']])\n",
    "    pred_copy = pred_copy.loc[pred_copy[c_p['date_column']]==c_e['eval_date']]\n",
    "    \n",
    "    all_model_evaluations = {} #{'model_name':score class object for that model}\n",
    "    \n",
    "    #now branch out for each model\n",
    "    for model in c_p['model_columns']:\n",
    "        \n",
    "        evaluated_model_obj = Score(model)\n",
    "        \n",
    "        #calculate for each window\n",
    "        for window in c_e['window']:\n",
    "            \n",
    "            start = c_e['eval_date'] + pd.DateOffset(months=window[0])\n",
    "            end = c_e['eval_date'] + pd.DateOffset(months=window[1])\n",
    "            \n",
    "            sl=slice(start,end)\n",
    "            y_true = ref_copy.loc[:,sl]\n",
    "            y_true = y_true.sum(axis=1)\n",
    "            \n",
    "            #for the time being, all ref patients are in pred_list. \n",
    "            #Change random.randint upper_range in data_generate to tweak\n",
    "            y_true=y_true[y_true.index.isin(pred_copy[c_p['id_column']])]\n",
    "            \n",
    "            y_true=y_true.append(pd.Series(0,index=set(pred_copy[c_p['id_column']])-set(y_true.index))).sort_index()\n",
    "        \n",
    "            #their size have to be same -- TO USE the built in metric functions\n",
    "            if pred_copy.shape[0]!=len(y_true):\n",
    "                print(\"ERROR: PREDICTION AND ACTUAL DATAFRAME HAVE DIFFERENT NUMBERS.  PREDICTION:\",pred_copy.shape[0], \" EVALUATION: \",len(y_true))\n",
    "                break\n",
    "            \n",
    "            #column label\n",
    "            label = model+'_bin_'+str(window[1])+'_'+eval_method\n",
    "            \n",
    "            #now thresholding method\n",
    "            if eval_method=='top_k':\n",
    "                pred_copy[label] = prob_to_bin(pred_copy[model], c_e['top_k'])\n",
    "    \n",
    "            elif eval_method == 'thresholding':\n",
    "                pred_copy[label] = np.where(pred_copy[model] > c_e['thresholding'], 1, 0)\n",
    "            \n",
    "            #model score for this window update\n",
    "            update_model_score(model, evaluated_model_obj, label, y_true, pred_copy)\n",
    "            \n",
    "        all_model_evaluations.update({model:evaluated_model_obj})\n",
    "    \n",
    "    return all_model_evaluations\n",
    "            "
   ]
  },
  {
   "cell_type": "code",
   "execution_count": 24,
   "metadata": {},
   "outputs": [],
   "source": [
    "def update_model_score(model, evaluated_model_obj, label, y_true, pred_copy):\n",
    "    \n",
    "    precision = evaluated_model_obj.get_precision(y_true.values, pred_copy[label].values)\n",
    "    evaluated_model_obj.precision.update({label:precision})\n",
    "\n",
    "    recall = evaluated_model_obj.get_recall(y_true.values, pred_copy[label].values)\n",
    "    evaluated_model_obj.recall.update({label:recall})\n",
    "\n",
    "    accuracy = evaluated_model_obj.get_accuracy(y_true.values, pred_copy[label].values)\n",
    "    evaluated_model_obj.accuracy.update({label:accuracy})\n",
    "\n",
    "    balanced_accuracy = evaluated_model_obj.get_balanced_accuracy(y_true.values, pred_copy[label].values)\n",
    "    evaluated_model_obj.balanced_accuracy.update({label:balanced_accuracy})\n",
    "\n",
    "    f1_score = evaluated_model_obj.get_f1_score(y_true.values, pred_copy[label].values)\n",
    "    evaluated_model_obj.f1_score.update({label:f1_score})\n",
    "\n",
    "    #these will take predicted probabilites, not thresholded binaries\n",
    "\n",
    "    log_loss = evaluated_model_obj.get_log_loss(y_true.values, pred_copy[model].values)\n",
    "    evaluated_model_obj.log_loss.update({label:log_loss})\n",
    "\n",
    "    roc_auc_score = evaluated_model_obj.get_roc_auc_score(y_true.values, pred_copy[model].values)\n",
    "    evaluated_model_obj.roc_auc_score.update({label:roc_auc_score})\n",
    "    \n",
    "    brier_score_loss = evaluated_model_obj.get_brier_score_loss(y_true.values, pred_copy[model].values)\n",
    "    evaluated_model_obj.brier_score_loss.update({label:brier_score_loss})\n",
    "    \n",
    "    "
   ]
  },
  {
   "cell_type": "markdown",
   "metadata": {},
   "source": [
    "<H3> Visualization </H3>"
   ]
  },
  {
   "cell_type": "code",
   "execution_count": 25,
   "metadata": {},
   "outputs": [],
   "source": [
    "def visualize_performance(model_name, model_score):\n",
    "    #all dictionaries with different windows\n",
    "    precision = model_score.precision\n",
    "    recall = model_score.recall\n",
    "    accuracy = model_score.accuracy\n",
    "    balanced_accuracy = model_score.balanced_accuracy\n",
    "    f1_score = model_score.f1_score\n",
    "    log_loss = model_score.log_loss\n",
    "    roc_auc_score = model_score.roc_auc_score\n",
    "    brier_score_loss = model_score.brier_score_loss\n",
    "    \n",
    "    metric_name = ['precision', 'recall', 'accuracy', 'balanced_accuracy', 'f1_score', 'log_loss', 'roc_auc_score', 'brier_score_loss']\n",
    "    metric_value = [precision, recall, accuracy, balanced_accuracy, f1_score, log_loss, roc_auc_score, brier_score_loss]\n",
    "    \n",
    "    data = pd.DataFrame(metric_value, index=metric_name)\n",
    "    \n",
    "    data.plot.bar()"
   ]
  },
  {
   "cell_type": "markdown",
   "metadata": {},
   "source": [
    "<H2> MAIN </H2>"
   ]
  },
  {
   "cell_type": "code",
   "execution_count": 26,
   "metadata": {
    "scrolled": true
   },
   "outputs": [
    {
     "data": {
      "image/png": "[encoded data removed]",
      "text/plain": [
       "<Figure size 432x288 with 1 Axes>"
      ]
     },
     "metadata": {
      "needs_background": "light"
     },
     "output_type": "display_data"
    },
    {
     "data": {
      "image/png": "[encoded data removed]",
      "text/plain": [
       "<Figure size 432x288 with 1 Axes>"
      ]
     },
     "metadata": {
      "needs_background": "light"
     },
     "output_type": "display_data"
    },
    {
     "data": {
      "image/png": "[encoded data removed]",
      "text/plain": [
       "<Figure size 432x288 with 1 Axes>"
      ]
     },
     "metadata": {
      "needs_background": "light"
     },
     "output_type": "display_data"
    },
    {
     "data": {
      "image/png": "[encoded data removed]",
      "text/plain": [
       "<Figure size 432x288 with 1 Axes>"
      ]
     },
     "metadata": {
      "needs_background": "light"
     },
     "output_type": "display_data"
    }
   ],
   "source": [
    "#pd.set_option('display.max_rows', None)\n",
    "if __name__ == \"__main__\":\n",
    "    c_p, c_r, c_e = load_configurations()\n",
    "    generate_synthetic_ground_truth_data(c_p, c_r)\n",
    "    generate_synthetic_prediction_data(c_p)\n",
    "    all_model_evaluations = evaluate(c_p, c_r, c_e, 'top_k')\n",
    "    for model_name in all_model_evaluations:\n",
    "        visualize_performance(model_name, all_model_evaluations[model_name])\n",
    "    "
   ]
  }
 ],
 "metadata": {
  "kernelspec": {
   "display_name": "Python 3",
   "language": "python",
   "name": "python3"
  },
  "language_info": {
   "codemirror_mode": {
    "name": "ipython",
    "version": 3
   },
   "file_extension": ".py",
   "mimetype": "text/x-python",
   "name": "python",
   "nbconvert_exporter": "python",
   "pygments_lexer": "ipython3",
   "version": "3.7.3"
  }
 },
 "nbformat": 4,
 "nbformat_minor": 2
}
