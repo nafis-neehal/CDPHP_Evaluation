{
 "cells": [
  {
   "cell_type": "markdown",
   "metadata": {},
   "source": [
    "# This is an Notebook which can evalute multiple files.  It implements a number of features:\n",
    "\n",
    "- TopK\n",
    "- Removing recent referrals\n",
    "- Thresholding \n",
    "- Tables and visualization\n",
    "- Config files for standardized processes. \n",
    "\n"
   ]
  },
  {
   "cell_type": "code",
   "execution_count": 41,
   "metadata": {},
   "outputs": [],
   "source": [
    "%reload_ext autoreload\n",
    "%autoreload 2\n",
    "#ignore warnings.\n",
    "def warn(*args, **kwargs):\n",
    "    pass\n",
    "import warnings\n",
    "warnings.warn = warn\n",
    "\n",
    "#imports\n",
    "import pandas as pd\n",
    "import os, sys\n",
    "import importlib\n",
    "import yaml, json\n",
    "from pathlib import Path\n",
    "\n",
    "#path append\n",
    "sys.path.append(os.path.join(Path.cwd(), 'modules'))\n",
    "import Evaluate, Helper, Present, Score, Synthetic\n"
   ]
  },
  {
   "cell_type": "markdown",
   "metadata": {},
   "source": [
    "<H3> Imports</H3>"
   ]
  },
  {
   "cell_type": "markdown",
   "metadata": {},
   "source": [
    "### File configuration\n",
    "<p> Just edit the configuration file path/address. prediction_files contain configs for different prediction files. config_file contains other configs for referral, visualization, experiment etc. </p>"
   ]
  },
  {
   "cell_type": "code",
   "execution_count": 42,
   "metadata": {},
   "outputs": [],
   "source": [
    "config_file = 'config/config.yaml'\n",
    "prediction_config_files = ['config/predictions/pred1.yaml', 'config/predictions/pred2.yaml']\n",
    "generate_data=True\n"
   ]
  },
  {
   "cell_type": "markdown",
   "metadata": {},
   "source": [
    "### Load Configuration and Referrals"
   ]
  },
  {
   "cell_type": "code",
   "execution_count": 43,
   "metadata": {},
   "outputs": [],
   "source": [
    "'''\n",
    "Transferred referral data loading inside the c_p for loop below, because referral_data is being changed for date format adjustment. \n",
    "As referral_data.copy() is not allowed for memory issues. The overhead shouldn't be much.\n",
    "'''\n",
    "\n",
    "#Load Configuration\n",
    "c_r, c_e, c_gen, c_aws, c_visual, predictions=Helper.load_configuration(config_file, prediction_config_files)\n",
    "\n",
    "#Generate Data (if required)\n",
    "if generate_data:\n",
    "    Synthetic.generate_synthetic_event_data(c_gen)\n",
    "    Synthetic.generate_synthetic_prediction_data(c_gen)"
   ]
  },
  {
   "cell_type": "markdown",
   "metadata": {},
   "source": [
    "### Evaluate Models\n",
    "For each configuration file provided it will evaluate the models. "
   ]
  },
  {
   "cell_type": "code",
   "execution_count": 44,
   "metadata": {},
   "outputs": [
    {
     "name": "stdout",
     "output_type": "stream",
     "text": [
      "Columns from dataframe (referral/prediction): ['PERSON_ID', 'MYR']\n",
      "Columns from config(c_r/c_p): ['PERSON_ID', 'MYR']\n",
      "Columns from dataframe (referral/prediction): ['PERSON_ID', 'MYR', 'lin_reg', 'rand_forest', 'xg_boost', 'sgmm']\n",
      "Columns from config(c_r/c_p): ['PERSON_ID', 'MYR']\n",
      "Number of Unique IDs in Referral: 25\n",
      "Number of Unique IDs in Prediction: 500\n",
      "Number of Intersected IDs: 15\n",
      "Precision\n"
     ]
    },
    {
     "data": {
      "text/plain": [
       "{'lin_reg_window_[0,3]_top_k_@k=50': 0.0,\n",
       " 'lin_reg_window_[0,3]_top_k_@k=60': 0.016666666666666666,\n",
       " 'lin_reg_window_[0,3]_thresholding_@p>=0.5': 0.0038910505836575876,\n",
       " 'lin_reg_window_[0,3]_thresholding_@p>=0.6': 0.005154639175257732,\n",
       " 'lin_reg_window_[0,6]_top_k_@k=50': 0.0,\n",
       " 'lin_reg_window_[0,6]_top_k_@k=60': 0.016666666666666666,\n",
       " 'lin_reg_window_[0,6]_thresholding_@p>=0.5': 0.0038910505836575876,\n",
       " 'lin_reg_window_[0,6]_thresholding_@p>=0.6': 0.005154639175257732,\n",
       " 'lin_reg_window_[0,12]_top_k_@k=50': 0.0,\n",
       " 'lin_reg_window_[0,12]_top_k_@k=60': 0.016666666666666666,\n",
       " 'lin_reg_window_[0,12]_thresholding_@p>=0.5': 0.007782101167315175,\n",
       " 'lin_reg_window_[0,12]_thresholding_@p>=0.6': 0.010309278350515464}"
      ]
     },
     "metadata": {},
     "output_type": "display_data"
    },
    {
     "name": "stdout",
     "output_type": "stream",
     "text": [
      "Recall\n"
     ]
    },
    {
     "data": {
      "text/plain": [
       "{'lin_reg_window_[0,3]_top_k_@k=50': 0.0,\n",
       " 'lin_reg_window_[0,3]_top_k_@k=60': 0.25,\n",
       " 'lin_reg_window_[0,3]_thresholding_@p>=0.5': 0.25,\n",
       " 'lin_reg_window_[0,3]_thresholding_@p>=0.6': 0.25,\n",
       " 'lin_reg_window_[0,6]_top_k_@k=50': 0.0,\n",
       " 'lin_reg_window_[0,6]_top_k_@k=60': 0.25,\n",
       " 'lin_reg_window_[0,6]_thresholding_@p>=0.5': 0.25,\n",
       " 'lin_reg_window_[0,6]_thresholding_@p>=0.6': 0.25,\n",
       " 'lin_reg_window_[0,12]_top_k_@k=50': 0.0,\n",
       " 'lin_reg_window_[0,12]_top_k_@k=60': 0.14285714285714285,\n",
       " 'lin_reg_window_[0,12]_thresholding_@p>=0.5': 0.2857142857142857,\n",
       " 'lin_reg_window_[0,12]_thresholding_@p>=0.6': 0.2857142857142857}"
      ]
     },
     "metadata": {},
     "output_type": "display_data"
    },
    {
     "name": "stdout",
     "output_type": "stream",
     "text": [
      "F1_Score\n"
     ]
    },
    {
     "data": {
      "text/plain": [
       "{'lin_reg_window_[0,3]_top_k_@k=50': 0.0,\n",
       " 'lin_reg_window_[0,3]_top_k_@k=60': 0.03125,\n",
       " 'lin_reg_window_[0,3]_thresholding_@p>=0.5': 0.007662835249042146,\n",
       " 'lin_reg_window_[0,3]_thresholding_@p>=0.6': 0.010101010101010102,\n",
       " 'lin_reg_window_[0,6]_top_k_@k=50': 0.0,\n",
       " 'lin_reg_window_[0,6]_top_k_@k=60': 0.03125,\n",
       " 'lin_reg_window_[0,6]_thresholding_@p>=0.5': 0.007662835249042146,\n",
       " 'lin_reg_window_[0,6]_thresholding_@p>=0.6': 0.010101010101010102,\n",
       " 'lin_reg_window_[0,12]_top_k_@k=50': 0.0,\n",
       " 'lin_reg_window_[0,12]_top_k_@k=60': 0.029850746268656716,\n",
       " 'lin_reg_window_[0,12]_thresholding_@p>=0.5': 0.015151515151515154,\n",
       " 'lin_reg_window_[0,12]_thresholding_@p>=0.6': 0.01990049751243781}"
      ]
     },
     "metadata": {},
     "output_type": "display_data"
    },
    {
     "name": "stdout",
     "output_type": "stream",
     "text": [
      "Accuracy\n"
     ]
    },
    {
     "data": {
      "text/plain": [
       "{'lin_reg_window_[0,3]_top_k_@k=50': 0.0,\n",
       " 'lin_reg_window_[0,3]_top_k_@k=60': 0.25,\n",
       " 'lin_reg_window_[0,3]_thresholding_@p>=0.5': 0.25,\n",
       " 'lin_reg_window_[0,3]_thresholding_@p>=0.6': 0.25,\n",
       " 'lin_reg_window_[0,6]_top_k_@k=50': 0.0,\n",
       " 'lin_reg_window_[0,6]_top_k_@k=60': 0.25,\n",
       " 'lin_reg_window_[0,6]_thresholding_@p>=0.5': 0.25,\n",
       " 'lin_reg_window_[0,6]_thresholding_@p>=0.6': 0.25,\n",
       " 'lin_reg_window_[0,12]_top_k_@k=50': 0.0,\n",
       " 'lin_reg_window_[0,12]_top_k_@k=60': 0.14285714285714285,\n",
       " 'lin_reg_window_[0,12]_thresholding_@p>=0.5': 0.2857142857142857,\n",
       " 'lin_reg_window_[0,12]_thresholding_@p>=0.6': 0.2857142857142857}"
      ]
     },
     "metadata": {},
     "output_type": "display_data"
    },
    {
     "name": "stdout",
     "output_type": "stream",
     "text": [
      "Confusion Matrix\n"
     ]
    },
    {
     "data": {
      "text/plain": [
       "{'lin_reg_window_[0,3]_top_k_@k=50': array([[441,  50],\n",
       "        [  4,   0]], dtype=int64),\n",
       " 'lin_reg_window_[0,3]_top_k_@k=60': array([[432,  59],\n",
       "        [  3,   1]], dtype=int64),\n",
       " 'lin_reg_window_[0,3]_thresholding_@p>=0.5': array([[235, 256],\n",
       "        [  3,   1]], dtype=int64),\n",
       " 'lin_reg_window_[0,3]_thresholding_@p>=0.6': array([[298, 193],\n",
       "        [  3,   1]], dtype=int64),\n",
       " 'lin_reg_window_[0,6]_top_k_@k=50': array([[441,  50],\n",
       "        [  4,   0]], dtype=int64),\n",
       " 'lin_reg_window_[0,6]_top_k_@k=60': array([[432,  59],\n",
       "        [  3,   1]], dtype=int64),\n",
       " 'lin_reg_window_[0,6]_thresholding_@p>=0.5': array([[235, 256],\n",
       "        [  3,   1]], dtype=int64),\n",
       " 'lin_reg_window_[0,6]_thresholding_@p>=0.6': array([[298, 193],\n",
       "        [  3,   1]], dtype=int64),\n",
       " 'lin_reg_window_[0,12]_top_k_@k=50': array([[438,  50],\n",
       "        [  7,   0]], dtype=int64),\n",
       " 'lin_reg_window_[0,12]_top_k_@k=60': array([[429,  59],\n",
       "        [  6,   1]], dtype=int64),\n",
       " 'lin_reg_window_[0,12]_thresholding_@p>=0.5': array([[233, 255],\n",
       "        [  5,   2]], dtype=int64),\n",
       " 'lin_reg_window_[0,12]_thresholding_@p>=0.6': array([[296, 192],\n",
       "        [  5,   2]], dtype=int64)}"
      ]
     },
     "metadata": {},
     "output_type": "display_data"
    },
    {
     "name": "stdout",
     "output_type": "stream",
     "text": [
      "Balanced Acc\n"
     ]
    },
    {
     "data": {
      "text/plain": [
       "{'lin_reg_window_[0,3]_top_k_@k=50': 0.44908350305498984,\n",
       " 'lin_reg_window_[0,3]_top_k_@k=60': 0.564918533604888,\n",
       " 'lin_reg_window_[0,3]_thresholding_@p>=0.5': 0.36430753564154783,\n",
       " 'lin_reg_window_[0,3]_thresholding_@p>=0.6': 0.4284623217922607,\n",
       " 'lin_reg_window_[0,6]_top_k_@k=50': 0.44908350305498984,\n",
       " 'lin_reg_window_[0,6]_top_k_@k=60': 0.564918533604888,\n",
       " 'lin_reg_window_[0,6]_thresholding_@p>=0.5': 0.36430753564154783,\n",
       " 'lin_reg_window_[0,6]_thresholding_@p>=0.6': 0.4284623217922607,\n",
       " 'lin_reg_window_[0,12]_top_k_@k=50': 0.4487704918032787,\n",
       " 'lin_reg_window_[0,12]_top_k_@k=60': 0.5109777517564402,\n",
       " 'lin_reg_window_[0,12]_thresholding_@p>=0.5': 0.38158665105386413,\n",
       " 'lin_reg_window_[0,12]_thresholding_@p>=0.6': 0.446135831381733}"
      ]
     },
     "metadata": {},
     "output_type": "display_data"
    },
    {
     "name": "stdout",
     "output_type": "stream",
     "text": [
      "Log Loss\n"
     ]
    },
    {
     "data": {
      "text/plain": [
       "{'lin_reg_window_[0,3]_top_k_@k=50': 1.013302482953585,\n",
       " 'lin_reg_window_[0,3]_top_k_@k=60': 1.013302482953585,\n",
       " 'lin_reg_window_[0,3]_thresholding_@p>=0.5': 1.013302482953585,\n",
       " 'lin_reg_window_[0,3]_thresholding_@p>=0.6': 1.013302482953585,\n",
       " 'lin_reg_window_[0,6]_top_k_@k=50': 1.013302482953585,\n",
       " 'lin_reg_window_[0,6]_top_k_@k=60': 1.013302482953585,\n",
       " 'lin_reg_window_[0,6]_thresholding_@p>=0.5': 1.013302482953585,\n",
       " 'lin_reg_window_[0,6]_thresholding_@p>=0.6': 1.013302482953585,\n",
       " 'lin_reg_window_[0,12]_top_k_@k=50': 1.0196570743353828,\n",
       " 'lin_reg_window_[0,12]_top_k_@k=60': 1.0196570743353828,\n",
       " 'lin_reg_window_[0,12]_thresholding_@p>=0.5': 1.0196570743353828,\n",
       " 'lin_reg_window_[0,12]_thresholding_@p>=0.6': 1.0196570743353828}"
      ]
     },
     "metadata": {},
     "output_type": "display_data"
    },
    {
     "name": "stdout",
     "output_type": "stream",
     "text": [
      "ROC Score\n"
     ]
    },
    {
     "data": {
      "text/plain": [
       "{'lin_reg_window_[0,3]_top_k_@k=50': 0.31237270875763745,\n",
       " 'lin_reg_window_[0,3]_top_k_@k=60': 0.31237270875763745,\n",
       " 'lin_reg_window_[0,3]_thresholding_@p>=0.5': 0.31237270875763745,\n",
       " 'lin_reg_window_[0,3]_thresholding_@p>=0.6': 0.31237270875763745,\n",
       " 'lin_reg_window_[0,6]_top_k_@k=50': 0.31237270875763745,\n",
       " 'lin_reg_window_[0,6]_top_k_@k=60': 0.31237270875763745,\n",
       " 'lin_reg_window_[0,6]_thresholding_@p>=0.5': 0.31237270875763745,\n",
       " 'lin_reg_window_[0,6]_thresholding_@p>=0.6': 0.31237270875763745,\n",
       " 'lin_reg_window_[0,12]_top_k_@k=50': 0.3221604215456674,\n",
       " 'lin_reg_window_[0,12]_top_k_@k=60': 0.3221604215456674,\n",
       " 'lin_reg_window_[0,12]_thresholding_@p>=0.5': 0.3221604215456674,\n",
       " 'lin_reg_window_[0,12]_thresholding_@p>=0.6': 0.3221604215456674}"
      ]
     },
     "metadata": {},
     "output_type": "display_data"
    },
    {
     "name": "stdout",
     "output_type": "stream",
     "text": [
      "Brier Score Loss\n"
     ]
    },
    {
     "data": {
      "text/plain": [
       "{'lin_reg_window_[0,3]_top_k_@k=50': 0.33333824704040405,\n",
       " 'lin_reg_window_[0,3]_top_k_@k=60': 0.33333824704040405,\n",
       " 'lin_reg_window_[0,3]_thresholding_@p>=0.5': 0.33333824704040405,\n",
       " 'lin_reg_window_[0,3]_thresholding_@p>=0.6': 0.33333824704040405,\n",
       " 'lin_reg_window_[0,6]_top_k_@k=50': 0.33333824704040405,\n",
       " 'lin_reg_window_[0,6]_top_k_@k=60': 0.33333824704040405,\n",
       " 'lin_reg_window_[0,6]_thresholding_@p>=0.5': 0.33333824704040405,\n",
       " 'lin_reg_window_[0,6]_thresholding_@p>=0.6': 0.33333824704040405,\n",
       " 'lin_reg_window_[0,12]_top_k_@k=50': 0.33556677229292925,\n",
       " 'lin_reg_window_[0,12]_top_k_@k=60': 0.33556677229292925,\n",
       " 'lin_reg_window_[0,12]_thresholding_@p>=0.5': 0.33556677229292925,\n",
       " 'lin_reg_window_[0,12]_thresholding_@p>=0.6': 0.33556677229292925}"
      ]
     },
     "metadata": {},
     "output_type": "display_data"
    },
    {
     "name": "stdout",
     "output_type": "stream",
     "text": [
      "Precision\n"
     ]
    },
    {
     "data": {
      "text/plain": [
       "{'rand_forest_window_[0,3]_top_k_@k=50': 0.0,\n",
       " 'rand_forest_window_[0,3]_top_k_@k=60': 0.0,\n",
       " 'rand_forest_window_[0,3]_thresholding_@p>=0.5': 0.00823045267489712,\n",
       " 'rand_forest_window_[0,3]_thresholding_@p>=0.6': 0.005291005291005291,\n",
       " 'rand_forest_window_[0,6]_top_k_@k=50': 0.0,\n",
       " 'rand_forest_window_[0,6]_top_k_@k=60': 0.0,\n",
       " 'rand_forest_window_[0,6]_thresholding_@p>=0.5': 0.00823045267489712,\n",
       " 'rand_forest_window_[0,6]_thresholding_@p>=0.6': 0.005291005291005291,\n",
       " 'rand_forest_window_[0,12]_top_k_@k=50': 0.0,\n",
       " 'rand_forest_window_[0,12]_top_k_@k=60': 0.0,\n",
       " 'rand_forest_window_[0,12]_thresholding_@p>=0.5': 0.01646090534979424,\n",
       " 'rand_forest_window_[0,12]_thresholding_@p>=0.6': 0.010582010582010581}"
      ]
     },
     "metadata": {},
     "output_type": "display_data"
    },
    {
     "name": "stdout",
     "output_type": "stream",
     "text": [
      "Recall\n"
     ]
    },
    {
     "data": {
      "text/plain": [
       "{'rand_forest_window_[0,3]_top_k_@k=50': 0.0,\n",
       " 'rand_forest_window_[0,3]_top_k_@k=60': 0.0,\n",
       " 'rand_forest_window_[0,3]_thresholding_@p>=0.5': 0.5,\n",
       " 'rand_forest_window_[0,3]_thresholding_@p>=0.6': 0.25,\n",
       " 'rand_forest_window_[0,6]_top_k_@k=50': 0.0,\n",
       " 'rand_forest_window_[0,6]_top_k_@k=60': 0.0,\n",
       " 'rand_forest_window_[0,6]_thresholding_@p>=0.5': 0.5,\n",
       " 'rand_forest_window_[0,6]_thresholding_@p>=0.6': 0.25,\n",
       " 'rand_forest_window_[0,12]_top_k_@k=50': 0.0,\n",
       " 'rand_forest_window_[0,12]_top_k_@k=60': 0.0,\n",
       " 'rand_forest_window_[0,12]_thresholding_@p>=0.5': 0.5714285714285714,\n",
       " 'rand_forest_window_[0,12]_thresholding_@p>=0.6': 0.2857142857142857}"
      ]
     },
     "metadata": {},
     "output_type": "display_data"
    },
    {
     "name": "stdout",
     "output_type": "stream",
     "text": [
      "F1_Score\n"
     ]
    },
    {
     "data": {
      "text/plain": [
       "{'rand_forest_window_[0,3]_top_k_@k=50': 0.0,\n",
       " 'rand_forest_window_[0,3]_top_k_@k=60': 0.0,\n",
       " 'rand_forest_window_[0,3]_thresholding_@p>=0.5': 0.01619433198380567,\n",
       " 'rand_forest_window_[0,3]_thresholding_@p>=0.6': 0.010362694300518133,\n",
       " 'rand_forest_window_[0,6]_top_k_@k=50': 0.0,\n",
       " 'rand_forest_window_[0,6]_top_k_@k=60': 0.0,\n",
       " 'rand_forest_window_[0,6]_thresholding_@p>=0.5': 0.01619433198380567,\n",
       " 'rand_forest_window_[0,6]_thresholding_@p>=0.6': 0.010362694300518133,\n",
       " 'rand_forest_window_[0,12]_top_k_@k=50': 0.0,\n",
       " 'rand_forest_window_[0,12]_top_k_@k=60': 0.0,\n",
       " 'rand_forest_window_[0,12]_thresholding_@p>=0.5': 0.032,\n",
       " 'rand_forest_window_[0,12]_thresholding_@p>=0.6': 0.02040816326530612}"
      ]
     },
     "metadata": {},
     "output_type": "display_data"
    },
    {
     "name": "stdout",
     "output_type": "stream",
     "text": [
      "Accuracy\n"
     ]
    },
    {
     "data": {
      "text/plain": [
       "{'rand_forest_window_[0,3]_top_k_@k=50': 0.0,\n",
       " 'rand_forest_window_[0,3]_top_k_@k=60': 0.0,\n",
       " 'rand_forest_window_[0,3]_thresholding_@p>=0.5': 0.5,\n",
       " 'rand_forest_window_[0,3]_thresholding_@p>=0.6': 0.25,\n",
       " 'rand_forest_window_[0,6]_top_k_@k=50': 0.0,\n",
       " 'rand_forest_window_[0,6]_top_k_@k=60': 0.0,\n",
       " 'rand_forest_window_[0,6]_thresholding_@p>=0.5': 0.5,\n",
       " 'rand_forest_window_[0,6]_thresholding_@p>=0.6': 0.25,\n",
       " 'rand_forest_window_[0,12]_top_k_@k=50': 0.0,\n",
       " 'rand_forest_window_[0,12]_top_k_@k=60': 0.0,\n",
       " 'rand_forest_window_[0,12]_thresholding_@p>=0.5': 0.5714285714285714,\n",
       " 'rand_forest_window_[0,12]_thresholding_@p>=0.6': 0.2857142857142857}"
      ]
     },
     "metadata": {},
     "output_type": "display_data"
    },
    {
     "name": "stdout",
     "output_type": "stream",
     "text": [
      "Confusion Matrix\n"
     ]
    },
    {
     "data": {
      "text/plain": [
       "{'rand_forest_window_[0,3]_top_k_@k=50': array([[441,  50],\n",
       "        [  4,   0]], dtype=int64),\n",
       " 'rand_forest_window_[0,3]_top_k_@k=60': array([[431,  60],\n",
       "        [  4,   0]], dtype=int64),\n",
       " 'rand_forest_window_[0,3]_thresholding_@p>=0.5': array([[250, 241],\n",
       "        [  2,   2]], dtype=int64),\n",
       " 'rand_forest_window_[0,3]_thresholding_@p>=0.6': array([[303, 188],\n",
       "        [  3,   1]], dtype=int64),\n",
       " 'rand_forest_window_[0,6]_top_k_@k=50': array([[441,  50],\n",
       "        [  4,   0]], dtype=int64),\n",
       " 'rand_forest_window_[0,6]_top_k_@k=60': array([[431,  60],\n",
       "        [  4,   0]], dtype=int64),\n",
       " 'rand_forest_window_[0,6]_thresholding_@p>=0.5': array([[250, 241],\n",
       "        [  2,   2]], dtype=int64),\n",
       " 'rand_forest_window_[0,6]_thresholding_@p>=0.6': array([[303, 188],\n",
       "        [  3,   1]], dtype=int64),\n",
       " 'rand_forest_window_[0,12]_top_k_@k=50': array([[438,  50],\n",
       "        [  7,   0]], dtype=int64),\n",
       " 'rand_forest_window_[0,12]_top_k_@k=60': array([[428,  60],\n",
       "        [  7,   0]], dtype=int64),\n",
       " 'rand_forest_window_[0,12]_thresholding_@p>=0.5': array([[249, 239],\n",
       "        [  3,   4]], dtype=int64),\n",
       " 'rand_forest_window_[0,12]_thresholding_@p>=0.6': array([[301, 187],\n",
       "        [  5,   2]], dtype=int64)}"
      ]
     },
     "metadata": {},
     "output_type": "display_data"
    },
    {
     "name": "stdout",
     "output_type": "stream",
     "text": [
      "Balanced Acc\n"
     ]
    },
    {
     "data": {
      "text/plain": [
       "{'rand_forest_window_[0,3]_top_k_@k=50': 0.44908350305498984,\n",
       " 'rand_forest_window_[0,3]_top_k_@k=60': 0.43890020366598775,\n",
       " 'rand_forest_window_[0,3]_thresholding_@p>=0.5': 0.5045824847250509,\n",
       " 'rand_forest_window_[0,3]_thresholding_@p>=0.6': 0.4335539714867617,\n",
       " 'rand_forest_window_[0,6]_top_k_@k=50': 0.44908350305498984,\n",
       " 'rand_forest_window_[0,6]_top_k_@k=60': 0.43890020366598775,\n",
       " 'rand_forest_window_[0,6]_thresholding_@p>=0.5': 0.5045824847250509,\n",
       " 'rand_forest_window_[0,6]_thresholding_@p>=0.6': 0.4335539714867617,\n",
       " 'rand_forest_window_[0,12]_top_k_@k=50': 0.4487704918032787,\n",
       " 'rand_forest_window_[0,12]_top_k_@k=60': 0.4385245901639344,\n",
       " 'rand_forest_window_[0,12]_thresholding_@p>=0.5': 0.5408372365339578,\n",
       " 'rand_forest_window_[0,12]_thresholding_@p>=0.6': 0.45125878220140514}"
      ]
     },
     "metadata": {},
     "output_type": "display_data"
    },
    {
     "name": "stdout",
     "output_type": "stream",
     "text": [
      "Log Loss\n"
     ]
    },
    {
     "data": {
      "text/plain": [
       "{'rand_forest_window_[0,3]_top_k_@k=50': 1.0127111571619316,\n",
       " 'rand_forest_window_[0,3]_top_k_@k=60': 1.0127111571619316,\n",
       " 'rand_forest_window_[0,3]_thresholding_@p>=0.5': 1.0127111571619316,\n",
       " 'rand_forest_window_[0,3]_thresholding_@p>=0.6': 1.0127111571619316,\n",
       " 'rand_forest_window_[0,6]_top_k_@k=50': 1.0127111571619316,\n",
       " 'rand_forest_window_[0,6]_top_k_@k=60': 1.0127111571619316,\n",
       " 'rand_forest_window_[0,6]_thresholding_@p>=0.5': 1.0127111571619316,\n",
       " 'rand_forest_window_[0,6]_thresholding_@p>=0.6': 1.0127111571619316,\n",
       " 'rand_forest_window_[0,12]_top_k_@k=50': 1.0126088998538472,\n",
       " 'rand_forest_window_[0,12]_top_k_@k=60': 1.0126088998538472,\n",
       " 'rand_forest_window_[0,12]_thresholding_@p>=0.5': 1.0126088998538472,\n",
       " 'rand_forest_window_[0,12]_thresholding_@p>=0.6': 1.0126088998538472}"
      ]
     },
     "metadata": {},
     "output_type": "display_data"
    },
    {
     "name": "stdout",
     "output_type": "stream",
     "text": [
      "ROC Score\n"
     ]
    },
    {
     "data": {
      "text/plain": [
       "{'rand_forest_window_[0,3]_top_k_@k=50': 0.420061099796334,\n",
       " 'rand_forest_window_[0,3]_top_k_@k=60': 0.420061099796334,\n",
       " 'rand_forest_window_[0,3]_thresholding_@p>=0.5': 0.420061099796334,\n",
       " 'rand_forest_window_[0,3]_thresholding_@p>=0.6': 0.420061099796334,\n",
       " 'rand_forest_window_[0,6]_top_k_@k=50': 0.420061099796334,\n",
       " 'rand_forest_window_[0,6]_top_k_@k=60': 0.420061099796334,\n",
       " 'rand_forest_window_[0,6]_thresholding_@p>=0.5': 0.420061099796334,\n",
       " 'rand_forest_window_[0,6]_thresholding_@p>=0.6': 0.420061099796334,\n",
       " 'rand_forest_window_[0,12]_top_k_@k=50': 0.4610655737704918,\n",
       " 'rand_forest_window_[0,12]_top_k_@k=60': 0.4610655737704918,\n",
       " 'rand_forest_window_[0,12]_thresholding_@p>=0.5': 0.4610655737704918,\n",
       " 'rand_forest_window_[0,12]_thresholding_@p>=0.6': 0.4610655737704918}"
      ]
     },
     "metadata": {},
     "output_type": "display_data"
    },
    {
     "name": "stdout",
     "output_type": "stream",
     "text": [
      "Brier Score Loss\n"
     ]
    },
    {
     "data": {
      "text/plain": [
       "{'rand_forest_window_[0,3]_top_k_@k=50': 0.33323395709232323,\n",
       " 'rand_forest_window_[0,3]_top_k_@k=60': 0.33323395709232323,\n",
       " 'rand_forest_window_[0,3]_thresholding_@p>=0.5': 0.33323395709232323,\n",
       " 'rand_forest_window_[0,3]_thresholding_@p>=0.6': 0.33323395709232323,\n",
       " 'rand_forest_window_[0,6]_top_k_@k=50': 0.33323395709232323,\n",
       " 'rand_forest_window_[0,6]_top_k_@k=60': 0.33323395709232323,\n",
       " 'rand_forest_window_[0,6]_thresholding_@p>=0.5': 0.33323395709232323,\n",
       " 'rand_forest_window_[0,6]_thresholding_@p>=0.6': 0.33323395709232323,\n",
       " 'rand_forest_window_[0,12]_top_k_@k=50': 0.33317920961757574,\n",
       " 'rand_forest_window_[0,12]_top_k_@k=60': 0.33317920961757574,\n",
       " 'rand_forest_window_[0,12]_thresholding_@p>=0.5': 0.33317920961757574,\n",
       " 'rand_forest_window_[0,12]_thresholding_@p>=0.6': 0.33317920961757574}"
      ]
     },
     "metadata": {},
     "output_type": "display_data"
    },
    {
     "name": "stdout",
     "output_type": "stream",
     "text": [
      "Precision\n"
     ]
    },
    {
     "data": {
      "text/plain": [
       "{'xg_boost_window_[0,3]_top_k_@k=50': 0.0,\n",
       " 'xg_boost_window_[0,3]_top_k_@k=60': 0.0,\n",
       " 'xg_boost_window_[0,3]_thresholding_@p>=0.5': 0.008,\n",
       " 'xg_boost_window_[0,3]_thresholding_@p>=0.6': 0.01,\n",
       " 'xg_boost_window_[0,6]_top_k_@k=50': 0.0,\n",
       " 'xg_boost_window_[0,6]_top_k_@k=60': 0.0,\n",
       " 'xg_boost_window_[0,6]_thresholding_@p>=0.5': 0.008,\n",
       " 'xg_boost_window_[0,6]_thresholding_@p>=0.6': 0.01,\n",
       " 'xg_boost_window_[0,12]_top_k_@k=50': 0.0,\n",
       " 'xg_boost_window_[0,12]_top_k_@k=60': 0.0,\n",
       " 'xg_boost_window_[0,12]_thresholding_@p>=0.5': 0.016,\n",
       " 'xg_boost_window_[0,12]_thresholding_@p>=0.6': 0.02}"
      ]
     },
     "metadata": {},
     "output_type": "display_data"
    },
    {
     "name": "stdout",
     "output_type": "stream",
     "text": [
      "Recall\n"
     ]
    },
    {
     "data": {
      "text/plain": [
       "{'xg_boost_window_[0,3]_top_k_@k=50': 0.0,\n",
       " 'xg_boost_window_[0,3]_top_k_@k=60': 0.0,\n",
       " 'xg_boost_window_[0,3]_thresholding_@p>=0.5': 0.5,\n",
       " 'xg_boost_window_[0,3]_thresholding_@p>=0.6': 0.5,\n",
       " 'xg_boost_window_[0,6]_top_k_@k=50': 0.0,\n",
       " 'xg_boost_window_[0,6]_top_k_@k=60': 0.0,\n",
       " 'xg_boost_window_[0,6]_thresholding_@p>=0.5': 0.5,\n",
       " 'xg_boost_window_[0,6]_thresholding_@p>=0.6': 0.5,\n",
       " 'xg_boost_window_[0,12]_top_k_@k=50': 0.0,\n",
       " 'xg_boost_window_[0,12]_top_k_@k=60': 0.0,\n",
       " 'xg_boost_window_[0,12]_thresholding_@p>=0.5': 0.5714285714285714,\n",
       " 'xg_boost_window_[0,12]_thresholding_@p>=0.6': 0.5714285714285714}"
      ]
     },
     "metadata": {},
     "output_type": "display_data"
    },
    {
     "name": "stdout",
     "output_type": "stream",
     "text": [
      "F1_Score\n"
     ]
    },
    {
     "data": {
      "text/plain": [
       "{'xg_boost_window_[0,3]_top_k_@k=50': 0.0,\n",
       " 'xg_boost_window_[0,3]_top_k_@k=60': 0.0,\n",
       " 'xg_boost_window_[0,3]_thresholding_@p>=0.5': 0.015748031496062992,\n",
       " 'xg_boost_window_[0,3]_thresholding_@p>=0.6': 0.0196078431372549,\n",
       " 'xg_boost_window_[0,6]_top_k_@k=50': 0.0,\n",
       " 'xg_boost_window_[0,6]_top_k_@k=60': 0.0,\n",
       " 'xg_boost_window_[0,6]_thresholding_@p>=0.5': 0.015748031496062992,\n",
       " 'xg_boost_window_[0,6]_thresholding_@p>=0.6': 0.0196078431372549,\n",
       " 'xg_boost_window_[0,12]_top_k_@k=50': 0.0,\n",
       " 'xg_boost_window_[0,12]_top_k_@k=60': 0.0,\n",
       " 'xg_boost_window_[0,12]_thresholding_@p>=0.5': 0.031128404669260697,\n",
       " 'xg_boost_window_[0,12]_thresholding_@p>=0.6': 0.03864734299516908}"
      ]
     },
     "metadata": {},
     "output_type": "display_data"
    },
    {
     "name": "stdout",
     "output_type": "stream",
     "text": [
      "Accuracy\n"
     ]
    },
    {
     "data": {
      "text/plain": [
       "{'xg_boost_window_[0,3]_top_k_@k=50': 0.0,\n",
       " 'xg_boost_window_[0,3]_top_k_@k=60': 0.0,\n",
       " 'xg_boost_window_[0,3]_thresholding_@p>=0.5': 0.5,\n",
       " 'xg_boost_window_[0,3]_thresholding_@p>=0.6': 0.5,\n",
       " 'xg_boost_window_[0,6]_top_k_@k=50': 0.0,\n",
       " 'xg_boost_window_[0,6]_top_k_@k=60': 0.0,\n",
       " 'xg_boost_window_[0,6]_thresholding_@p>=0.5': 0.5,\n",
       " 'xg_boost_window_[0,6]_thresholding_@p>=0.6': 0.5,\n",
       " 'xg_boost_window_[0,12]_top_k_@k=50': 0.0,\n",
       " 'xg_boost_window_[0,12]_top_k_@k=60': 0.0,\n",
       " 'xg_boost_window_[0,12]_thresholding_@p>=0.5': 0.5714285714285714,\n",
       " 'xg_boost_window_[0,12]_thresholding_@p>=0.6': 0.5714285714285714}"
      ]
     },
     "metadata": {},
     "output_type": "display_data"
    },
    {
     "name": "stdout",
     "output_type": "stream",
     "text": [
      "Confusion Matrix\n"
     ]
    },
    {
     "data": {
      "text/plain": [
       "{'xg_boost_window_[0,3]_top_k_@k=50': array([[441,  50],\n",
       "        [  4,   0]], dtype=int64),\n",
       " 'xg_boost_window_[0,3]_top_k_@k=60': array([[431,  60],\n",
       "        [  4,   0]], dtype=int64),\n",
       " 'xg_boost_window_[0,3]_thresholding_@p>=0.5': array([[243, 248],\n",
       "        [  2,   2]], dtype=int64),\n",
       " 'xg_boost_window_[0,3]_thresholding_@p>=0.6': array([[293, 198],\n",
       "        [  2,   2]], dtype=int64),\n",
       " 'xg_boost_window_[0,6]_top_k_@k=50': array([[441,  50],\n",
       "        [  4,   0]], dtype=int64),\n",
       " 'xg_boost_window_[0,6]_top_k_@k=60': array([[431,  60],\n",
       "        [  4,   0]], dtype=int64),\n",
       " 'xg_boost_window_[0,6]_thresholding_@p>=0.5': array([[243, 248],\n",
       "        [  2,   2]], dtype=int64),\n",
       " 'xg_boost_window_[0,6]_thresholding_@p>=0.6': array([[293, 198],\n",
       "        [  2,   2]], dtype=int64),\n",
       " 'xg_boost_window_[0,12]_top_k_@k=50': array([[438,  50],\n",
       "        [  7,   0]], dtype=int64),\n",
       " 'xg_boost_window_[0,12]_top_k_@k=60': array([[428,  60],\n",
       "        [  7,   0]], dtype=int64),\n",
       " 'xg_boost_window_[0,12]_thresholding_@p>=0.5': array([[242, 246],\n",
       "        [  3,   4]], dtype=int64),\n",
       " 'xg_boost_window_[0,12]_thresholding_@p>=0.6': array([[292, 196],\n",
       "        [  3,   4]], dtype=int64)}"
      ]
     },
     "metadata": {},
     "output_type": "display_data"
    },
    {
     "name": "stdout",
     "output_type": "stream",
     "text": [
      "Balanced Acc\n"
     ]
    },
    {
     "data": {
      "text/plain": [
       "{'xg_boost_window_[0,3]_top_k_@k=50': 0.44908350305498984,\n",
       " 'xg_boost_window_[0,3]_top_k_@k=60': 0.43890020366598775,\n",
       " 'xg_boost_window_[0,3]_thresholding_@p>=0.5': 0.4974541751527495,\n",
       " 'xg_boost_window_[0,3]_thresholding_@p>=0.6': 0.5483706720977597,\n",
       " 'xg_boost_window_[0,6]_top_k_@k=50': 0.44908350305498984,\n",
       " 'xg_boost_window_[0,6]_top_k_@k=60': 0.43890020366598775,\n",
       " 'xg_boost_window_[0,6]_thresholding_@p>=0.5': 0.4974541751527495,\n",
       " 'xg_boost_window_[0,6]_thresholding_@p>=0.6': 0.5483706720977597,\n",
       " 'xg_boost_window_[0,12]_top_k_@k=50': 0.4487704918032787,\n",
       " 'xg_boost_window_[0,12]_top_k_@k=60': 0.4385245901639344,\n",
       " 'xg_boost_window_[0,12]_thresholding_@p>=0.5': 0.5336651053864169,\n",
       " 'xg_boost_window_[0,12]_thresholding_@p>=0.6': 0.5848946135831381}"
      ]
     },
     "metadata": {},
     "output_type": "display_data"
    },
    {
     "name": "stdout",
     "output_type": "stream",
     "text": [
      "Log Loss\n"
     ]
    },
    {
     "data": {
      "text/plain": [
       "{'xg_boost_window_[0,3]_top_k_@k=50': 1.0323053735190355,\n",
       " 'xg_boost_window_[0,3]_top_k_@k=60': 1.0323053735190355,\n",
       " 'xg_boost_window_[0,3]_thresholding_@p>=0.5': 1.0323053735190355,\n",
       " 'xg_boost_window_[0,3]_thresholding_@p>=0.6': 1.0323053735190355,\n",
       " 'xg_boost_window_[0,6]_top_k_@k=50': 1.0323053735190355,\n",
       " 'xg_boost_window_[0,6]_top_k_@k=60': 1.0323053735190355,\n",
       " 'xg_boost_window_[0,6]_thresholding_@p>=0.5': 1.0323053735190355,\n",
       " 'xg_boost_window_[0,6]_thresholding_@p>=0.6': 1.0323053735190355,\n",
       " 'xg_boost_window_[0,12]_top_k_@k=50': 1.0287982163458402,\n",
       " 'xg_boost_window_[0,12]_top_k_@k=60': 1.0287982163458402,\n",
       " 'xg_boost_window_[0,12]_thresholding_@p>=0.5': 1.0287982163458402,\n",
       " 'xg_boost_window_[0,12]_thresholding_@p>=0.6': 1.0287982163458402}"
      ]
     },
     "metadata": {},
     "output_type": "display_data"
    },
    {
     "name": "stdout",
     "output_type": "stream",
     "text": [
      "ROC Score\n"
     ]
    },
    {
     "data": {
      "text/plain": [
       "{'xg_boost_window_[0,3]_top_k_@k=50': 0.5213849287169043,\n",
       " 'xg_boost_window_[0,3]_top_k_@k=60': 0.5213849287169043,\n",
       " 'xg_boost_window_[0,3]_thresholding_@p>=0.5': 0.5213849287169043,\n",
       " 'xg_boost_window_[0,3]_thresholding_@p>=0.6': 0.5213849287169043,\n",
       " 'xg_boost_window_[0,6]_top_k_@k=50': 0.5213849287169043,\n",
       " 'xg_boost_window_[0,6]_top_k_@k=60': 0.5213849287169043,\n",
       " 'xg_boost_window_[0,6]_thresholding_@p>=0.5': 0.5213849287169043,\n",
       " 'xg_boost_window_[0,6]_thresholding_@p>=0.6': 0.5213849287169043,\n",
       " 'xg_boost_window_[0,12]_top_k_@k=50': 0.5638173302107728,\n",
       " 'xg_boost_window_[0,12]_top_k_@k=60': 0.5638173302107728,\n",
       " 'xg_boost_window_[0,12]_thresholding_@p>=0.5': 0.5638173302107728,\n",
       " 'xg_boost_window_[0,12]_thresholding_@p>=0.6': 0.5638173302107728}"
      ]
     },
     "metadata": {},
     "output_type": "display_data"
    },
    {
     "name": "stdout",
     "output_type": "stream",
     "text": [
      "Brier Score Loss\n"
     ]
    },
    {
     "data": {
      "text/plain": [
       "{'xg_boost_window_[0,3]_top_k_@k=50': 0.33702861509737375,\n",
       " 'xg_boost_window_[0,3]_top_k_@k=60': 0.33702861509737375,\n",
       " 'xg_boost_window_[0,3]_thresholding_@p>=0.5': 0.33702861509737375,\n",
       " 'xg_boost_window_[0,3]_thresholding_@p>=0.6': 0.33702861509737375,\n",
       " 'xg_boost_window_[0,6]_top_k_@k=50': 0.33702861509737375,\n",
       " 'xg_boost_window_[0,6]_top_k_@k=60': 0.33702861509737375,\n",
       " 'xg_boost_window_[0,6]_thresholding_@p>=0.5': 0.33702861509737375,\n",
       " 'xg_boost_window_[0,6]_thresholding_@p>=0.6': 0.33702861509737375,\n",
       " 'xg_boost_window_[0,12]_top_k_@k=50': 0.335493948430707,\n",
       " 'xg_boost_window_[0,12]_top_k_@k=60': 0.335493948430707,\n",
       " 'xg_boost_window_[0,12]_thresholding_@p>=0.5': 0.335493948430707,\n",
       " 'xg_boost_window_[0,12]_thresholding_@p>=0.6': 0.335493948430707}"
      ]
     },
     "metadata": {},
     "output_type": "display_data"
    },
    {
     "name": "stdout",
     "output_type": "stream",
     "text": [
      "Precision\n"
     ]
    },
    {
     "data": {
      "text/plain": [
       "{'sgmm_window_[0,3]_top_k_@k=50': 0.0,\n",
       " 'sgmm_window_[0,3]_top_k_@k=60': 0.0,\n",
       " 'sgmm_window_[0,3]_thresholding_@p>=0.5': 0.01276595744680851,\n",
       " 'sgmm_window_[0,3]_thresholding_@p>=0.6': 0.0051813471502590676,\n",
       " 'sgmm_window_[0,6]_top_k_@k=50': 0.0,\n",
       " 'sgmm_window_[0,6]_top_k_@k=60': 0.0,\n",
       " 'sgmm_window_[0,6]_thresholding_@p>=0.5': 0.01276595744680851,\n",
       " 'sgmm_window_[0,6]_thresholding_@p>=0.6': 0.0051813471502590676,\n",
       " 'sgmm_window_[0,12]_top_k_@k=50': 0.02,\n",
       " 'sgmm_window_[0,12]_top_k_@k=60': 0.016666666666666666,\n",
       " 'sgmm_window_[0,12]_thresholding_@p>=0.5': 0.01702127659574468,\n",
       " 'sgmm_window_[0,12]_thresholding_@p>=0.6': 0.010362694300518135}"
      ]
     },
     "metadata": {},
     "output_type": "display_data"
    },
    {
     "name": "stdout",
     "output_type": "stream",
     "text": [
      "Recall\n"
     ]
    },
    {
     "data": {
      "text/plain": [
       "{'sgmm_window_[0,3]_top_k_@k=50': 0.0,\n",
       " 'sgmm_window_[0,3]_top_k_@k=60': 0.0,\n",
       " 'sgmm_window_[0,3]_thresholding_@p>=0.5': 0.75,\n",
       " 'sgmm_window_[0,3]_thresholding_@p>=0.6': 0.25,\n",
       " 'sgmm_window_[0,6]_top_k_@k=50': 0.0,\n",
       " 'sgmm_window_[0,6]_top_k_@k=60': 0.0,\n",
       " 'sgmm_window_[0,6]_thresholding_@p>=0.5': 0.75,\n",
       " 'sgmm_window_[0,6]_thresholding_@p>=0.6': 0.25,\n",
       " 'sgmm_window_[0,12]_top_k_@k=50': 0.14285714285714285,\n",
       " 'sgmm_window_[0,12]_top_k_@k=60': 0.14285714285714285,\n",
       " 'sgmm_window_[0,12]_thresholding_@p>=0.5': 0.5714285714285714,\n",
       " 'sgmm_window_[0,12]_thresholding_@p>=0.6': 0.2857142857142857}"
      ]
     },
     "metadata": {},
     "output_type": "display_data"
    },
    {
     "name": "stdout",
     "output_type": "stream",
     "text": [
      "F1_Score\n"
     ]
    },
    {
     "data": {
      "text/plain": [
       "{'sgmm_window_[0,3]_top_k_@k=50': 0.0,\n",
       " 'sgmm_window_[0,3]_top_k_@k=60': 0.0,\n",
       " 'sgmm_window_[0,3]_thresholding_@p>=0.5': 0.02510460251046025,\n",
       " 'sgmm_window_[0,3]_thresholding_@p>=0.6': 0.01015228426395939,\n",
       " 'sgmm_window_[0,6]_top_k_@k=50': 0.0,\n",
       " 'sgmm_window_[0,6]_top_k_@k=60': 0.0,\n",
       " 'sgmm_window_[0,6]_thresholding_@p>=0.5': 0.02510460251046025,\n",
       " 'sgmm_window_[0,6]_thresholding_@p>=0.6': 0.01015228426395939,\n",
       " 'sgmm_window_[0,12]_top_k_@k=50': 0.03508771929824562,\n",
       " 'sgmm_window_[0,12]_top_k_@k=60': 0.029850746268656716,\n",
       " 'sgmm_window_[0,12]_thresholding_@p>=0.5': 0.033057851239669415,\n",
       " 'sgmm_window_[0,12]_thresholding_@p>=0.6': 0.02}"
      ]
     },
     "metadata": {},
     "output_type": "display_data"
    },
    {
     "name": "stdout",
     "output_type": "stream",
     "text": [
      "Accuracy\n"
     ]
    },
    {
     "data": {
      "text/plain": [
       "{'sgmm_window_[0,3]_top_k_@k=50': 0.0,\n",
       " 'sgmm_window_[0,3]_top_k_@k=60': 0.0,\n",
       " 'sgmm_window_[0,3]_thresholding_@p>=0.5': 0.75,\n",
       " 'sgmm_window_[0,3]_thresholding_@p>=0.6': 0.25,\n",
       " 'sgmm_window_[0,6]_top_k_@k=50': 0.0,\n",
       " 'sgmm_window_[0,6]_top_k_@k=60': 0.0,\n",
       " 'sgmm_window_[0,6]_thresholding_@p>=0.5': 0.75,\n",
       " 'sgmm_window_[0,6]_thresholding_@p>=0.6': 0.25,\n",
       " 'sgmm_window_[0,12]_top_k_@k=50': 0.14285714285714285,\n",
       " 'sgmm_window_[0,12]_top_k_@k=60': 0.14285714285714285,\n",
       " 'sgmm_window_[0,12]_thresholding_@p>=0.5': 0.5714285714285714,\n",
       " 'sgmm_window_[0,12]_thresholding_@p>=0.6': 0.2857142857142857}"
      ]
     },
     "metadata": {},
     "output_type": "display_data"
    },
    {
     "name": "stdout",
     "output_type": "stream",
     "text": [
      "Confusion Matrix\n"
     ]
    },
    {
     "data": {
      "text/plain": [
       "{'sgmm_window_[0,3]_top_k_@k=50': array([[441,  50],\n",
       "        [  4,   0]], dtype=int64),\n",
       " 'sgmm_window_[0,3]_top_k_@k=60': array([[431,  60],\n",
       "        [  4,   0]], dtype=int64),\n",
       " 'sgmm_window_[0,3]_thresholding_@p>=0.5': array([[259, 232],\n",
       "        [  1,   3]], dtype=int64),\n",
       " 'sgmm_window_[0,3]_thresholding_@p>=0.6': array([[299, 192],\n",
       "        [  3,   1]], dtype=int64),\n",
       " 'sgmm_window_[0,6]_top_k_@k=50': array([[441,  50],\n",
       "        [  4,   0]], dtype=int64),\n",
       " 'sgmm_window_[0,6]_top_k_@k=60': array([[431,  60],\n",
       "        [  4,   0]], dtype=int64),\n",
       " 'sgmm_window_[0,6]_thresholding_@p>=0.5': array([[259, 232],\n",
       "        [  1,   3]], dtype=int64),\n",
       " 'sgmm_window_[0,6]_thresholding_@p>=0.6': array([[299, 192],\n",
       "        [  3,   1]], dtype=int64),\n",
       " 'sgmm_window_[0,12]_top_k_@k=50': array([[439,  49],\n",
       "        [  6,   1]], dtype=int64),\n",
       " 'sgmm_window_[0,12]_top_k_@k=60': array([[429,  59],\n",
       "        [  6,   1]], dtype=int64),\n",
       " 'sgmm_window_[0,12]_thresholding_@p>=0.5': array([[257, 231],\n",
       "        [  3,   4]], dtype=int64),\n",
       " 'sgmm_window_[0,12]_thresholding_@p>=0.6': array([[297, 191],\n",
       "        [  5,   2]], dtype=int64)}"
      ]
     },
     "metadata": {},
     "output_type": "display_data"
    },
    {
     "name": "stdout",
     "output_type": "stream",
     "text": [
      "Balanced Acc\n"
     ]
    },
    {
     "data": {
      "text/plain": [
       "{'sgmm_window_[0,3]_top_k_@k=50': 0.44908350305498984,\n",
       " 'sgmm_window_[0,3]_top_k_@k=60': 0.43890020366598775,\n",
       " 'sgmm_window_[0,3]_thresholding_@p>=0.5': 0.6387474541751528,\n",
       " 'sgmm_window_[0,3]_thresholding_@p>=0.6': 0.4294806517311609,\n",
       " 'sgmm_window_[0,6]_top_k_@k=50': 0.44908350305498984,\n",
       " 'sgmm_window_[0,6]_top_k_@k=60': 0.43890020366598775,\n",
       " 'sgmm_window_[0,6]_thresholding_@p>=0.5': 0.6387474541751528,\n",
       " 'sgmm_window_[0,6]_thresholding_@p>=0.6': 0.4294806517311609,\n",
       " 'sgmm_window_[0,12]_top_k_@k=50': 0.5212236533957846,\n",
       " 'sgmm_window_[0,12]_top_k_@k=60': 0.5109777517564402,\n",
       " 'sgmm_window_[0,12]_thresholding_@p>=0.5': 0.5490339578454333,\n",
       " 'sgmm_window_[0,12]_thresholding_@p>=0.6': 0.44716042154566743}"
      ]
     },
     "metadata": {},
     "output_type": "display_data"
    },
    {
     "name": "stdout",
     "output_type": "stream",
     "text": [
      "Log Loss\n"
     ]
    },
    {
     "data": {
      "text/plain": [
       "{'sgmm_window_[0,3]_top_k_@k=50': 0.9541151044339882,\n",
       " 'sgmm_window_[0,3]_top_k_@k=60': 0.9541151044339882,\n",
       " 'sgmm_window_[0,3]_thresholding_@p>=0.5': 0.9541151044339882,\n",
       " 'sgmm_window_[0,3]_thresholding_@p>=0.6': 0.9541151044339882,\n",
       " 'sgmm_window_[0,6]_top_k_@k=50': 0.9541151044339882,\n",
       " 'sgmm_window_[0,6]_top_k_@k=60': 0.9541151044339882,\n",
       " 'sgmm_window_[0,6]_thresholding_@p>=0.5': 0.9541151044339882,\n",
       " 'sgmm_window_[0,6]_thresholding_@p>=0.6': 0.9541151044339882,\n",
       " 'sgmm_window_[0,12]_top_k_@k=50': 0.9565160929108135,\n",
       " 'sgmm_window_[0,12]_top_k_@k=60': 0.9565160929108135,\n",
       " 'sgmm_window_[0,12]_thresholding_@p>=0.5': 0.9565160929108135,\n",
       " 'sgmm_window_[0,12]_thresholding_@p>=0.6': 0.9565160929108135}"
      ]
     },
     "metadata": {},
     "output_type": "display_data"
    },
    {
     "name": "stdout",
     "output_type": "stream",
     "text": [
      "ROC Score\n"
     ]
    },
    {
     "data": {
      "text/plain": [
       "{'sgmm_window_[0,3]_top_k_@k=50': 0.5835030549898167,\n",
       " 'sgmm_window_[0,3]_top_k_@k=60': 0.5835030549898167,\n",
       " 'sgmm_window_[0,3]_thresholding_@p>=0.5': 0.5835030549898167,\n",
       " 'sgmm_window_[0,3]_thresholding_@p>=0.6': 0.5835030549898167,\n",
       " 'sgmm_window_[0,6]_top_k_@k=50': 0.5835030549898167,\n",
       " 'sgmm_window_[0,6]_top_k_@k=60': 0.5835030549898167,\n",
       " 'sgmm_window_[0,6]_thresholding_@p>=0.5': 0.5835030549898167,\n",
       " 'sgmm_window_[0,6]_thresholding_@p>=0.6': 0.5835030549898167,\n",
       " 'sgmm_window_[0,12]_top_k_@k=50': 0.5181498829039812,\n",
       " 'sgmm_window_[0,12]_top_k_@k=60': 0.5181498829039812,\n",
       " 'sgmm_window_[0,12]_thresholding_@p>=0.5': 0.5181498829039812,\n",
       " 'sgmm_window_[0,12]_thresholding_@p>=0.6': 0.5181498829039812}"
      ]
     },
     "metadata": {},
     "output_type": "display_data"
    },
    {
     "name": "stdout",
     "output_type": "stream",
     "text": [
      "Brier Score Loss\n"
     ]
    },
    {
     "data": {
      "text/plain": [
       "{'sgmm_window_[0,3]_top_k_@k=50': 0.3191272124830303,\n",
       " 'sgmm_window_[0,3]_top_k_@k=60': 0.3191272124830303,\n",
       " 'sgmm_window_[0,3]_thresholding_@p>=0.5': 0.3191272124830303,\n",
       " 'sgmm_window_[0,3]_thresholding_@p>=0.6': 0.3191272124830303,\n",
       " 'sgmm_window_[0,6]_top_k_@k=50': 0.3191272124830303,\n",
       " 'sgmm_window_[0,6]_top_k_@k=60': 0.3191272124830303,\n",
       " 'sgmm_window_[0,6]_thresholding_@p>=0.5': 0.3191272124830303,\n",
       " 'sgmm_window_[0,6]_thresholding_@p>=0.6': 0.3191272124830303,\n",
       " 'sgmm_window_[0,12]_top_k_@k=50': 0.3200993740991919,\n",
       " 'sgmm_window_[0,12]_top_k_@k=60': 0.3200993740991919,\n",
       " 'sgmm_window_[0,12]_thresholding_@p>=0.5': 0.3200993740991919,\n",
       " 'sgmm_window_[0,12]_thresholding_@p>=0.6': 0.3200993740991919}"
      ]
     },
     "metadata": {},
     "output_type": "display_data"
    },
    {
     "name": "stdout",
     "output_type": "stream",
     "text": [
      "Columns from dataframe (referral/prediction): ['PERSON_ID', 'MYR']\n",
      "Columns from config(c_r/c_p): ['PERSON_ID', 'MYR']\n",
      "Columns from dataframe (referral/prediction): ['PERSON_ID', 'MYR', 'lin_reg', 'rand_forest', 'xg_boost', 'sgmm']\n",
      "Columns from config(c_r/c_p): ['PERSON_ID', 'MYR']\n",
      "Number of Unique IDs in Referral: 25\n",
      "Number of Unique IDs in Prediction: 500\n",
      "Number of Intersected IDs: 15\n",
      "Precision\n"
     ]
    },
    {
     "data": {
      "text/plain": [
       "{'lin_reg_window_[0,3]_top_k_@k=50': 0.0,\n",
       " 'lin_reg_window_[0,3]_top_k_@k=60': 0.016666666666666666,\n",
       " 'lin_reg_window_[0,3]_thresholding_@p>=0.5': 0.0038910505836575876,\n",
       " 'lin_reg_window_[0,3]_thresholding_@p>=0.6': 0.005154639175257732,\n",
       " 'lin_reg_window_[0,6]_top_k_@k=50': 0.0,\n",
       " 'lin_reg_window_[0,6]_top_k_@k=60': 0.016666666666666666,\n",
       " 'lin_reg_window_[0,6]_thresholding_@p>=0.5': 0.0038910505836575876,\n",
       " 'lin_reg_window_[0,6]_thresholding_@p>=0.6': 0.005154639175257732,\n",
       " 'lin_reg_window_[0,12]_top_k_@k=50': 0.0,\n",
       " 'lin_reg_window_[0,12]_top_k_@k=60': 0.016666666666666666,\n",
       " 'lin_reg_window_[0,12]_thresholding_@p>=0.5': 0.007782101167315175,\n",
       " 'lin_reg_window_[0,12]_thresholding_@p>=0.6': 0.010309278350515464}"
      ]
     },
     "metadata": {},
     "output_type": "display_data"
    },
    {
     "name": "stdout",
     "output_type": "stream",
     "text": [
      "Recall\n"
     ]
    },
    {
     "data": {
      "text/plain": [
       "{'lin_reg_window_[0,3]_top_k_@k=50': 0.0,\n",
       " 'lin_reg_window_[0,3]_top_k_@k=60': 0.25,\n",
       " 'lin_reg_window_[0,3]_thresholding_@p>=0.5': 0.25,\n",
       " 'lin_reg_window_[0,3]_thresholding_@p>=0.6': 0.25,\n",
       " 'lin_reg_window_[0,6]_top_k_@k=50': 0.0,\n",
       " 'lin_reg_window_[0,6]_top_k_@k=60': 0.25,\n",
       " 'lin_reg_window_[0,6]_thresholding_@p>=0.5': 0.25,\n",
       " 'lin_reg_window_[0,6]_thresholding_@p>=0.6': 0.25,\n",
       " 'lin_reg_window_[0,12]_top_k_@k=50': 0.0,\n",
       " 'lin_reg_window_[0,12]_top_k_@k=60': 0.14285714285714285,\n",
       " 'lin_reg_window_[0,12]_thresholding_@p>=0.5': 0.2857142857142857,\n",
       " 'lin_reg_window_[0,12]_thresholding_@p>=0.6': 0.2857142857142857}"
      ]
     },
     "metadata": {},
     "output_type": "display_data"
    },
    {
     "name": "stdout",
     "output_type": "stream",
     "text": [
      "F1_Score\n"
     ]
    },
    {
     "data": {
      "text/plain": [
       "{'lin_reg_window_[0,3]_top_k_@k=50': 0.0,\n",
       " 'lin_reg_window_[0,3]_top_k_@k=60': 0.03125,\n",
       " 'lin_reg_window_[0,3]_thresholding_@p>=0.5': 0.007662835249042146,\n",
       " 'lin_reg_window_[0,3]_thresholding_@p>=0.6': 0.010101010101010102,\n",
       " 'lin_reg_window_[0,6]_top_k_@k=50': 0.0,\n",
       " 'lin_reg_window_[0,6]_top_k_@k=60': 0.03125,\n",
       " 'lin_reg_window_[0,6]_thresholding_@p>=0.5': 0.007662835249042146,\n",
       " 'lin_reg_window_[0,6]_thresholding_@p>=0.6': 0.010101010101010102,\n",
       " 'lin_reg_window_[0,12]_top_k_@k=50': 0.0,\n",
       " 'lin_reg_window_[0,12]_top_k_@k=60': 0.029850746268656716,\n",
       " 'lin_reg_window_[0,12]_thresholding_@p>=0.5': 0.015151515151515154,\n",
       " 'lin_reg_window_[0,12]_thresholding_@p>=0.6': 0.01990049751243781}"
      ]
     },
     "metadata": {},
     "output_type": "display_data"
    },
    {
     "name": "stdout",
     "output_type": "stream",
     "text": [
      "Accuracy\n"
     ]
    },
    {
     "data": {
      "text/plain": [
       "{'lin_reg_window_[0,3]_top_k_@k=50': 0.0,\n",
       " 'lin_reg_window_[0,3]_top_k_@k=60': 0.25,\n",
       " 'lin_reg_window_[0,3]_thresholding_@p>=0.5': 0.25,\n",
       " 'lin_reg_window_[0,3]_thresholding_@p>=0.6': 0.25,\n",
       " 'lin_reg_window_[0,6]_top_k_@k=50': 0.0,\n",
       " 'lin_reg_window_[0,6]_top_k_@k=60': 0.25,\n",
       " 'lin_reg_window_[0,6]_thresholding_@p>=0.5': 0.25,\n",
       " 'lin_reg_window_[0,6]_thresholding_@p>=0.6': 0.25,\n",
       " 'lin_reg_window_[0,12]_top_k_@k=50': 0.0,\n",
       " 'lin_reg_window_[0,12]_top_k_@k=60': 0.14285714285714285,\n",
       " 'lin_reg_window_[0,12]_thresholding_@p>=0.5': 0.2857142857142857,\n",
       " 'lin_reg_window_[0,12]_thresholding_@p>=0.6': 0.2857142857142857}"
      ]
     },
     "metadata": {},
     "output_type": "display_data"
    },
    {
     "name": "stdout",
     "output_type": "stream",
     "text": [
      "Confusion Matrix\n"
     ]
    },
    {
     "data": {
      "text/plain": [
       "{'lin_reg_window_[0,3]_top_k_@k=50': array([[441,  50],\n",
       "        [  4,   0]], dtype=int64),\n",
       " 'lin_reg_window_[0,3]_top_k_@k=60': array([[432,  59],\n",
       "        [  3,   1]], dtype=int64),\n",
       " 'lin_reg_window_[0,3]_thresholding_@p>=0.5': array([[235, 256],\n",
       "        [  3,   1]], dtype=int64),\n",
       " 'lin_reg_window_[0,3]_thresholding_@p>=0.6': array([[298, 193],\n",
       "        [  3,   1]], dtype=int64),\n",
       " 'lin_reg_window_[0,6]_top_k_@k=50': array([[441,  50],\n",
       "        [  4,   0]], dtype=int64),\n",
       " 'lin_reg_window_[0,6]_top_k_@k=60': array([[432,  59],\n",
       "        [  3,   1]], dtype=int64),\n",
       " 'lin_reg_window_[0,6]_thresholding_@p>=0.5': array([[235, 256],\n",
       "        [  3,   1]], dtype=int64),\n",
       " 'lin_reg_window_[0,6]_thresholding_@p>=0.6': array([[298, 193],\n",
       "        [  3,   1]], dtype=int64),\n",
       " 'lin_reg_window_[0,12]_top_k_@k=50': array([[438,  50],\n",
       "        [  7,   0]], dtype=int64),\n",
       " 'lin_reg_window_[0,12]_top_k_@k=60': array([[429,  59],\n",
       "        [  6,   1]], dtype=int64),\n",
       " 'lin_reg_window_[0,12]_thresholding_@p>=0.5': array([[233, 255],\n",
       "        [  5,   2]], dtype=int64),\n",
       " 'lin_reg_window_[0,12]_thresholding_@p>=0.6': array([[296, 192],\n",
       "        [  5,   2]], dtype=int64)}"
      ]
     },
     "metadata": {},
     "output_type": "display_data"
    },
    {
     "name": "stdout",
     "output_type": "stream",
     "text": [
      "Balanced Acc\n"
     ]
    },
    {
     "data": {
      "text/plain": [
       "{'lin_reg_window_[0,3]_top_k_@k=50': 0.44908350305498984,\n",
       " 'lin_reg_window_[0,3]_top_k_@k=60': 0.564918533604888,\n",
       " 'lin_reg_window_[0,3]_thresholding_@p>=0.5': 0.36430753564154783,\n",
       " 'lin_reg_window_[0,3]_thresholding_@p>=0.6': 0.4284623217922607,\n",
       " 'lin_reg_window_[0,6]_top_k_@k=50': 0.44908350305498984,\n",
       " 'lin_reg_window_[0,6]_top_k_@k=60': 0.564918533604888,\n",
       " 'lin_reg_window_[0,6]_thresholding_@p>=0.5': 0.36430753564154783,\n",
       " 'lin_reg_window_[0,6]_thresholding_@p>=0.6': 0.4284623217922607,\n",
       " 'lin_reg_window_[0,12]_top_k_@k=50': 0.4487704918032787,\n",
       " 'lin_reg_window_[0,12]_top_k_@k=60': 0.5109777517564402,\n",
       " 'lin_reg_window_[0,12]_thresholding_@p>=0.5': 0.38158665105386413,\n",
       " 'lin_reg_window_[0,12]_thresholding_@p>=0.6': 0.446135831381733}"
      ]
     },
     "metadata": {},
     "output_type": "display_data"
    },
    {
     "name": "stdout",
     "output_type": "stream",
     "text": [
      "Log Loss\n"
     ]
    },
    {
     "data": {
      "text/plain": [
       "{'lin_reg_window_[0,3]_top_k_@k=50': 1.013302482953585,\n",
       " 'lin_reg_window_[0,3]_top_k_@k=60': 1.013302482953585,\n",
       " 'lin_reg_window_[0,3]_thresholding_@p>=0.5': 1.013302482953585,\n",
       " 'lin_reg_window_[0,3]_thresholding_@p>=0.6': 1.013302482953585,\n",
       " 'lin_reg_window_[0,6]_top_k_@k=50': 1.013302482953585,\n",
       " 'lin_reg_window_[0,6]_top_k_@k=60': 1.013302482953585,\n",
       " 'lin_reg_window_[0,6]_thresholding_@p>=0.5': 1.013302482953585,\n",
       " 'lin_reg_window_[0,6]_thresholding_@p>=0.6': 1.013302482953585,\n",
       " 'lin_reg_window_[0,12]_top_k_@k=50': 1.0196570743353828,\n",
       " 'lin_reg_window_[0,12]_top_k_@k=60': 1.0196570743353828,\n",
       " 'lin_reg_window_[0,12]_thresholding_@p>=0.5': 1.0196570743353828,\n",
       " 'lin_reg_window_[0,12]_thresholding_@p>=0.6': 1.0196570743353828}"
      ]
     },
     "metadata": {},
     "output_type": "display_data"
    },
    {
     "name": "stdout",
     "output_type": "stream",
     "text": [
      "ROC Score\n"
     ]
    },
    {
     "data": {
      "text/plain": [
       "{'lin_reg_window_[0,3]_top_k_@k=50': 0.31237270875763745,\n",
       " 'lin_reg_window_[0,3]_top_k_@k=60': 0.31237270875763745,\n",
       " 'lin_reg_window_[0,3]_thresholding_@p>=0.5': 0.31237270875763745,\n",
       " 'lin_reg_window_[0,3]_thresholding_@p>=0.6': 0.31237270875763745,\n",
       " 'lin_reg_window_[0,6]_top_k_@k=50': 0.31237270875763745,\n",
       " 'lin_reg_window_[0,6]_top_k_@k=60': 0.31237270875763745,\n",
       " 'lin_reg_window_[0,6]_thresholding_@p>=0.5': 0.31237270875763745,\n",
       " 'lin_reg_window_[0,6]_thresholding_@p>=0.6': 0.31237270875763745,\n",
       " 'lin_reg_window_[0,12]_top_k_@k=50': 0.3221604215456674,\n",
       " 'lin_reg_window_[0,12]_top_k_@k=60': 0.3221604215456674,\n",
       " 'lin_reg_window_[0,12]_thresholding_@p>=0.5': 0.3221604215456674,\n",
       " 'lin_reg_window_[0,12]_thresholding_@p>=0.6': 0.3221604215456674}"
      ]
     },
     "metadata": {},
     "output_type": "display_data"
    },
    {
     "name": "stdout",
     "output_type": "stream",
     "text": [
      "Brier Score Loss\n"
     ]
    },
    {
     "data": {
      "text/plain": [
       "{'lin_reg_window_[0,3]_top_k_@k=50': 0.33333824704040405,\n",
       " 'lin_reg_window_[0,3]_top_k_@k=60': 0.33333824704040405,\n",
       " 'lin_reg_window_[0,3]_thresholding_@p>=0.5': 0.33333824704040405,\n",
       " 'lin_reg_window_[0,3]_thresholding_@p>=0.6': 0.33333824704040405,\n",
       " 'lin_reg_window_[0,6]_top_k_@k=50': 0.33333824704040405,\n",
       " 'lin_reg_window_[0,6]_top_k_@k=60': 0.33333824704040405,\n",
       " 'lin_reg_window_[0,6]_thresholding_@p>=0.5': 0.33333824704040405,\n",
       " 'lin_reg_window_[0,6]_thresholding_@p>=0.6': 0.33333824704040405,\n",
       " 'lin_reg_window_[0,12]_top_k_@k=50': 0.33556677229292925,\n",
       " 'lin_reg_window_[0,12]_top_k_@k=60': 0.33556677229292925,\n",
       " 'lin_reg_window_[0,12]_thresholding_@p>=0.5': 0.33556677229292925,\n",
       " 'lin_reg_window_[0,12]_thresholding_@p>=0.6': 0.33556677229292925}"
      ]
     },
     "metadata": {},
     "output_type": "display_data"
    },
    {
     "name": "stdout",
     "output_type": "stream",
     "text": [
      "Precision\n"
     ]
    },
    {
     "data": {
      "text/plain": [
       "{'rand_forest_window_[0,3]_top_k_@k=50': 0.0,\n",
       " 'rand_forest_window_[0,3]_top_k_@k=60': 0.0,\n",
       " 'rand_forest_window_[0,3]_thresholding_@p>=0.5': 0.00823045267489712,\n",
       " 'rand_forest_window_[0,3]_thresholding_@p>=0.6': 0.005291005291005291,\n",
       " 'rand_forest_window_[0,6]_top_k_@k=50': 0.0,\n",
       " 'rand_forest_window_[0,6]_top_k_@k=60': 0.0,\n",
       " 'rand_forest_window_[0,6]_thresholding_@p>=0.5': 0.00823045267489712,\n",
       " 'rand_forest_window_[0,6]_thresholding_@p>=0.6': 0.005291005291005291,\n",
       " 'rand_forest_window_[0,12]_top_k_@k=50': 0.0,\n",
       " 'rand_forest_window_[0,12]_top_k_@k=60': 0.0,\n",
       " 'rand_forest_window_[0,12]_thresholding_@p>=0.5': 0.01646090534979424,\n",
       " 'rand_forest_window_[0,12]_thresholding_@p>=0.6': 0.010582010582010581}"
      ]
     },
     "metadata": {},
     "output_type": "display_data"
    },
    {
     "name": "stdout",
     "output_type": "stream",
     "text": [
      "Recall\n"
     ]
    },
    {
     "data": {
      "text/plain": [
       "{'rand_forest_window_[0,3]_top_k_@k=50': 0.0,\n",
       " 'rand_forest_window_[0,3]_top_k_@k=60': 0.0,\n",
       " 'rand_forest_window_[0,3]_thresholding_@p>=0.5': 0.5,\n",
       " 'rand_forest_window_[0,3]_thresholding_@p>=0.6': 0.25,\n",
       " 'rand_forest_window_[0,6]_top_k_@k=50': 0.0,\n",
       " 'rand_forest_window_[0,6]_top_k_@k=60': 0.0,\n",
       " 'rand_forest_window_[0,6]_thresholding_@p>=0.5': 0.5,\n",
       " 'rand_forest_window_[0,6]_thresholding_@p>=0.6': 0.25,\n",
       " 'rand_forest_window_[0,12]_top_k_@k=50': 0.0,\n",
       " 'rand_forest_window_[0,12]_top_k_@k=60': 0.0,\n",
       " 'rand_forest_window_[0,12]_thresholding_@p>=0.5': 0.5714285714285714,\n",
       " 'rand_forest_window_[0,12]_thresholding_@p>=0.6': 0.2857142857142857}"
      ]
     },
     "metadata": {},
     "output_type": "display_data"
    },
    {
     "name": "stdout",
     "output_type": "stream",
     "text": [
      "F1_Score\n"
     ]
    },
    {
     "data": {
      "text/plain": [
       "{'rand_forest_window_[0,3]_top_k_@k=50': 0.0,\n",
       " 'rand_forest_window_[0,3]_top_k_@k=60': 0.0,\n",
       " 'rand_forest_window_[0,3]_thresholding_@p>=0.5': 0.01619433198380567,\n",
       " 'rand_forest_window_[0,3]_thresholding_@p>=0.6': 0.010362694300518133,\n",
       " 'rand_forest_window_[0,6]_top_k_@k=50': 0.0,\n",
       " 'rand_forest_window_[0,6]_top_k_@k=60': 0.0,\n",
       " 'rand_forest_window_[0,6]_thresholding_@p>=0.5': 0.01619433198380567,\n",
       " 'rand_forest_window_[0,6]_thresholding_@p>=0.6': 0.010362694300518133,\n",
       " 'rand_forest_window_[0,12]_top_k_@k=50': 0.0,\n",
       " 'rand_forest_window_[0,12]_top_k_@k=60': 0.0,\n",
       " 'rand_forest_window_[0,12]_thresholding_@p>=0.5': 0.032,\n",
       " 'rand_forest_window_[0,12]_thresholding_@p>=0.6': 0.02040816326530612}"
      ]
     },
     "metadata": {},
     "output_type": "display_data"
    },
    {
     "name": "stdout",
     "output_type": "stream",
     "text": [
      "Accuracy\n"
     ]
    },
    {
     "data": {
      "text/plain": [
       "{'rand_forest_window_[0,3]_top_k_@k=50': 0.0,\n",
       " 'rand_forest_window_[0,3]_top_k_@k=60': 0.0,\n",
       " 'rand_forest_window_[0,3]_thresholding_@p>=0.5': 0.5,\n",
       " 'rand_forest_window_[0,3]_thresholding_@p>=0.6': 0.25,\n",
       " 'rand_forest_window_[0,6]_top_k_@k=50': 0.0,\n",
       " 'rand_forest_window_[0,6]_top_k_@k=60': 0.0,\n",
       " 'rand_forest_window_[0,6]_thresholding_@p>=0.5': 0.5,\n",
       " 'rand_forest_window_[0,6]_thresholding_@p>=0.6': 0.25,\n",
       " 'rand_forest_window_[0,12]_top_k_@k=50': 0.0,\n",
       " 'rand_forest_window_[0,12]_top_k_@k=60': 0.0,\n",
       " 'rand_forest_window_[0,12]_thresholding_@p>=0.5': 0.5714285714285714,\n",
       " 'rand_forest_window_[0,12]_thresholding_@p>=0.6': 0.2857142857142857}"
      ]
     },
     "metadata": {},
     "output_type": "display_data"
    },
    {
     "name": "stdout",
     "output_type": "stream",
     "text": [
      "Confusion Matrix\n"
     ]
    },
    {
     "data": {
      "text/plain": [
       "{'rand_forest_window_[0,3]_top_k_@k=50': array([[441,  50],\n",
       "        [  4,   0]], dtype=int64),\n",
       " 'rand_forest_window_[0,3]_top_k_@k=60': array([[431,  60],\n",
       "        [  4,   0]], dtype=int64),\n",
       " 'rand_forest_window_[0,3]_thresholding_@p>=0.5': array([[250, 241],\n",
       "        [  2,   2]], dtype=int64),\n",
       " 'rand_forest_window_[0,3]_thresholding_@p>=0.6': array([[303, 188],\n",
       "        [  3,   1]], dtype=int64),\n",
       " 'rand_forest_window_[0,6]_top_k_@k=50': array([[441,  50],\n",
       "        [  4,   0]], dtype=int64),\n",
       " 'rand_forest_window_[0,6]_top_k_@k=60': array([[431,  60],\n",
       "        [  4,   0]], dtype=int64),\n",
       " 'rand_forest_window_[0,6]_thresholding_@p>=0.5': array([[250, 241],\n",
       "        [  2,   2]], dtype=int64),\n",
       " 'rand_forest_window_[0,6]_thresholding_@p>=0.6': array([[303, 188],\n",
       "        [  3,   1]], dtype=int64),\n",
       " 'rand_forest_window_[0,12]_top_k_@k=50': array([[438,  50],\n",
       "        [  7,   0]], dtype=int64),\n",
       " 'rand_forest_window_[0,12]_top_k_@k=60': array([[428,  60],\n",
       "        [  7,   0]], dtype=int64),\n",
       " 'rand_forest_window_[0,12]_thresholding_@p>=0.5': array([[249, 239],\n",
       "        [  3,   4]], dtype=int64),\n",
       " 'rand_forest_window_[0,12]_thresholding_@p>=0.6': array([[301, 187],\n",
       "        [  5,   2]], dtype=int64)}"
      ]
     },
     "metadata": {},
     "output_type": "display_data"
    },
    {
     "name": "stdout",
     "output_type": "stream",
     "text": [
      "Balanced Acc\n"
     ]
    },
    {
     "data": {
      "text/plain": [
       "{'rand_forest_window_[0,3]_top_k_@k=50': 0.44908350305498984,\n",
       " 'rand_forest_window_[0,3]_top_k_@k=60': 0.43890020366598775,\n",
       " 'rand_forest_window_[0,3]_thresholding_@p>=0.5': 0.5045824847250509,\n",
       " 'rand_forest_window_[0,3]_thresholding_@p>=0.6': 0.4335539714867617,\n",
       " 'rand_forest_window_[0,6]_top_k_@k=50': 0.44908350305498984,\n",
       " 'rand_forest_window_[0,6]_top_k_@k=60': 0.43890020366598775,\n",
       " 'rand_forest_window_[0,6]_thresholding_@p>=0.5': 0.5045824847250509,\n",
       " 'rand_forest_window_[0,6]_thresholding_@p>=0.6': 0.4335539714867617,\n",
       " 'rand_forest_window_[0,12]_top_k_@k=50': 0.4487704918032787,\n",
       " 'rand_forest_window_[0,12]_top_k_@k=60': 0.4385245901639344,\n",
       " 'rand_forest_window_[0,12]_thresholding_@p>=0.5': 0.5408372365339578,\n",
       " 'rand_forest_window_[0,12]_thresholding_@p>=0.6': 0.45125878220140514}"
      ]
     },
     "metadata": {},
     "output_type": "display_data"
    },
    {
     "name": "stdout",
     "output_type": "stream",
     "text": [
      "Log Loss\n"
     ]
    },
    {
     "data": {
      "text/plain": [
       "{'rand_forest_window_[0,3]_top_k_@k=50': 1.0127111571619316,\n",
       " 'rand_forest_window_[0,3]_top_k_@k=60': 1.0127111571619316,\n",
       " 'rand_forest_window_[0,3]_thresholding_@p>=0.5': 1.0127111571619316,\n",
       " 'rand_forest_window_[0,3]_thresholding_@p>=0.6': 1.0127111571619316,\n",
       " 'rand_forest_window_[0,6]_top_k_@k=50': 1.0127111571619316,\n",
       " 'rand_forest_window_[0,6]_top_k_@k=60': 1.0127111571619316,\n",
       " 'rand_forest_window_[0,6]_thresholding_@p>=0.5': 1.0127111571619316,\n",
       " 'rand_forest_window_[0,6]_thresholding_@p>=0.6': 1.0127111571619316,\n",
       " 'rand_forest_window_[0,12]_top_k_@k=50': 1.0126088998538472,\n",
       " 'rand_forest_window_[0,12]_top_k_@k=60': 1.0126088998538472,\n",
       " 'rand_forest_window_[0,12]_thresholding_@p>=0.5': 1.0126088998538472,\n",
       " 'rand_forest_window_[0,12]_thresholding_@p>=0.6': 1.0126088998538472}"
      ]
     },
     "metadata": {},
     "output_type": "display_data"
    },
    {
     "name": "stdout",
     "output_type": "stream",
     "text": [
      "ROC Score\n"
     ]
    },
    {
     "data": {
      "text/plain": [
       "{'rand_forest_window_[0,3]_top_k_@k=50': 0.420061099796334,\n",
       " 'rand_forest_window_[0,3]_top_k_@k=60': 0.420061099796334,\n",
       " 'rand_forest_window_[0,3]_thresholding_@p>=0.5': 0.420061099796334,\n",
       " 'rand_forest_window_[0,3]_thresholding_@p>=0.6': 0.420061099796334,\n",
       " 'rand_forest_window_[0,6]_top_k_@k=50': 0.420061099796334,\n",
       " 'rand_forest_window_[0,6]_top_k_@k=60': 0.420061099796334,\n",
       " 'rand_forest_window_[0,6]_thresholding_@p>=0.5': 0.420061099796334,\n",
       " 'rand_forest_window_[0,6]_thresholding_@p>=0.6': 0.420061099796334,\n",
       " 'rand_forest_window_[0,12]_top_k_@k=50': 0.4610655737704918,\n",
       " 'rand_forest_window_[0,12]_top_k_@k=60': 0.4610655737704918,\n",
       " 'rand_forest_window_[0,12]_thresholding_@p>=0.5': 0.4610655737704918,\n",
       " 'rand_forest_window_[0,12]_thresholding_@p>=0.6': 0.4610655737704918}"
      ]
     },
     "metadata": {},
     "output_type": "display_data"
    },
    {
     "name": "stdout",
     "output_type": "stream",
     "text": [
      "Brier Score Loss\n"
     ]
    },
    {
     "data": {
      "text/plain": [
       "{'rand_forest_window_[0,3]_top_k_@k=50': 0.33323395709232323,\n",
       " 'rand_forest_window_[0,3]_top_k_@k=60': 0.33323395709232323,\n",
       " 'rand_forest_window_[0,3]_thresholding_@p>=0.5': 0.33323395709232323,\n",
       " 'rand_forest_window_[0,3]_thresholding_@p>=0.6': 0.33323395709232323,\n",
       " 'rand_forest_window_[0,6]_top_k_@k=50': 0.33323395709232323,\n",
       " 'rand_forest_window_[0,6]_top_k_@k=60': 0.33323395709232323,\n",
       " 'rand_forest_window_[0,6]_thresholding_@p>=0.5': 0.33323395709232323,\n",
       " 'rand_forest_window_[0,6]_thresholding_@p>=0.6': 0.33323395709232323,\n",
       " 'rand_forest_window_[0,12]_top_k_@k=50': 0.33317920961757574,\n",
       " 'rand_forest_window_[0,12]_top_k_@k=60': 0.33317920961757574,\n",
       " 'rand_forest_window_[0,12]_thresholding_@p>=0.5': 0.33317920961757574,\n",
       " 'rand_forest_window_[0,12]_thresholding_@p>=0.6': 0.33317920961757574}"
      ]
     },
     "metadata": {},
     "output_type": "display_data"
    },
    {
     "name": "stdout",
     "output_type": "stream",
     "text": [
      "Precision\n"
     ]
    },
    {
     "data": {
      "text/plain": [
       "{'xg_boost_window_[0,3]_top_k_@k=50': 0.0,\n",
       " 'xg_boost_window_[0,3]_top_k_@k=60': 0.0,\n",
       " 'xg_boost_window_[0,3]_thresholding_@p>=0.5': 0.008,\n",
       " 'xg_boost_window_[0,3]_thresholding_@p>=0.6': 0.01,\n",
       " 'xg_boost_window_[0,6]_top_k_@k=50': 0.0,\n",
       " 'xg_boost_window_[0,6]_top_k_@k=60': 0.0,\n",
       " 'xg_boost_window_[0,6]_thresholding_@p>=0.5': 0.008,\n",
       " 'xg_boost_window_[0,6]_thresholding_@p>=0.6': 0.01,\n",
       " 'xg_boost_window_[0,12]_top_k_@k=50': 0.0,\n",
       " 'xg_boost_window_[0,12]_top_k_@k=60': 0.0,\n",
       " 'xg_boost_window_[0,12]_thresholding_@p>=0.5': 0.016,\n",
       " 'xg_boost_window_[0,12]_thresholding_@p>=0.6': 0.02}"
      ]
     },
     "metadata": {},
     "output_type": "display_data"
    },
    {
     "name": "stdout",
     "output_type": "stream",
     "text": [
      "Recall\n"
     ]
    },
    {
     "data": {
      "text/plain": [
       "{'xg_boost_window_[0,3]_top_k_@k=50': 0.0,\n",
       " 'xg_boost_window_[0,3]_top_k_@k=60': 0.0,\n",
       " 'xg_boost_window_[0,3]_thresholding_@p>=0.5': 0.5,\n",
       " 'xg_boost_window_[0,3]_thresholding_@p>=0.6': 0.5,\n",
       " 'xg_boost_window_[0,6]_top_k_@k=50': 0.0,\n",
       " 'xg_boost_window_[0,6]_top_k_@k=60': 0.0,\n",
       " 'xg_boost_window_[0,6]_thresholding_@p>=0.5': 0.5,\n",
       " 'xg_boost_window_[0,6]_thresholding_@p>=0.6': 0.5,\n",
       " 'xg_boost_window_[0,12]_top_k_@k=50': 0.0,\n",
       " 'xg_boost_window_[0,12]_top_k_@k=60': 0.0,\n",
       " 'xg_boost_window_[0,12]_thresholding_@p>=0.5': 0.5714285714285714,\n",
       " 'xg_boost_window_[0,12]_thresholding_@p>=0.6': 0.5714285714285714}"
      ]
     },
     "metadata": {},
     "output_type": "display_data"
    },
    {
     "name": "stdout",
     "output_type": "stream",
     "text": [
      "F1_Score\n"
     ]
    },
    {
     "data": {
      "text/plain": [
       "{'xg_boost_window_[0,3]_top_k_@k=50': 0.0,\n",
       " 'xg_boost_window_[0,3]_top_k_@k=60': 0.0,\n",
       " 'xg_boost_window_[0,3]_thresholding_@p>=0.5': 0.015748031496062992,\n",
       " 'xg_boost_window_[0,3]_thresholding_@p>=0.6': 0.0196078431372549,\n",
       " 'xg_boost_window_[0,6]_top_k_@k=50': 0.0,\n",
       " 'xg_boost_window_[0,6]_top_k_@k=60': 0.0,\n",
       " 'xg_boost_window_[0,6]_thresholding_@p>=0.5': 0.015748031496062992,\n",
       " 'xg_boost_window_[0,6]_thresholding_@p>=0.6': 0.0196078431372549,\n",
       " 'xg_boost_window_[0,12]_top_k_@k=50': 0.0,\n",
       " 'xg_boost_window_[0,12]_top_k_@k=60': 0.0,\n",
       " 'xg_boost_window_[0,12]_thresholding_@p>=0.5': 0.031128404669260697,\n",
       " 'xg_boost_window_[0,12]_thresholding_@p>=0.6': 0.03864734299516908}"
      ]
     },
     "metadata": {},
     "output_type": "display_data"
    },
    {
     "name": "stdout",
     "output_type": "stream",
     "text": [
      "Accuracy\n"
     ]
    },
    {
     "data": {
      "text/plain": [
       "{'xg_boost_window_[0,3]_top_k_@k=50': 0.0,\n",
       " 'xg_boost_window_[0,3]_top_k_@k=60': 0.0,\n",
       " 'xg_boost_window_[0,3]_thresholding_@p>=0.5': 0.5,\n",
       " 'xg_boost_window_[0,3]_thresholding_@p>=0.6': 0.5,\n",
       " 'xg_boost_window_[0,6]_top_k_@k=50': 0.0,\n",
       " 'xg_boost_window_[0,6]_top_k_@k=60': 0.0,\n",
       " 'xg_boost_window_[0,6]_thresholding_@p>=0.5': 0.5,\n",
       " 'xg_boost_window_[0,6]_thresholding_@p>=0.6': 0.5,\n",
       " 'xg_boost_window_[0,12]_top_k_@k=50': 0.0,\n",
       " 'xg_boost_window_[0,12]_top_k_@k=60': 0.0,\n",
       " 'xg_boost_window_[0,12]_thresholding_@p>=0.5': 0.5714285714285714,\n",
       " 'xg_boost_window_[0,12]_thresholding_@p>=0.6': 0.5714285714285714}"
      ]
     },
     "metadata": {},
     "output_type": "display_data"
    },
    {
     "name": "stdout",
     "output_type": "stream",
     "text": [
      "Confusion Matrix\n"
     ]
    },
    {
     "data": {
      "text/plain": [
       "{'xg_boost_window_[0,3]_top_k_@k=50': array([[441,  50],\n",
       "        [  4,   0]], dtype=int64),\n",
       " 'xg_boost_window_[0,3]_top_k_@k=60': array([[431,  60],\n",
       "        [  4,   0]], dtype=int64),\n",
       " 'xg_boost_window_[0,3]_thresholding_@p>=0.5': array([[243, 248],\n",
       "        [  2,   2]], dtype=int64),\n",
       " 'xg_boost_window_[0,3]_thresholding_@p>=0.6': array([[293, 198],\n",
       "        [  2,   2]], dtype=int64),\n",
       " 'xg_boost_window_[0,6]_top_k_@k=50': array([[441,  50],\n",
       "        [  4,   0]], dtype=int64),\n",
       " 'xg_boost_window_[0,6]_top_k_@k=60': array([[431,  60],\n",
       "        [  4,   0]], dtype=int64),\n",
       " 'xg_boost_window_[0,6]_thresholding_@p>=0.5': array([[243, 248],\n",
       "        [  2,   2]], dtype=int64),\n",
       " 'xg_boost_window_[0,6]_thresholding_@p>=0.6': array([[293, 198],\n",
       "        [  2,   2]], dtype=int64),\n",
       " 'xg_boost_window_[0,12]_top_k_@k=50': array([[438,  50],\n",
       "        [  7,   0]], dtype=int64),\n",
       " 'xg_boost_window_[0,12]_top_k_@k=60': array([[428,  60],\n",
       "        [  7,   0]], dtype=int64),\n",
       " 'xg_boost_window_[0,12]_thresholding_@p>=0.5': array([[242, 246],\n",
       "        [  3,   4]], dtype=int64),\n",
       " 'xg_boost_window_[0,12]_thresholding_@p>=0.6': array([[292, 196],\n",
       "        [  3,   4]], dtype=int64)}"
      ]
     },
     "metadata": {},
     "output_type": "display_data"
    },
    {
     "name": "stdout",
     "output_type": "stream",
     "text": [
      "Balanced Acc\n"
     ]
    },
    {
     "data": {
      "text/plain": [
       "{'xg_boost_window_[0,3]_top_k_@k=50': 0.44908350305498984,\n",
       " 'xg_boost_window_[0,3]_top_k_@k=60': 0.43890020366598775,\n",
       " 'xg_boost_window_[0,3]_thresholding_@p>=0.5': 0.4974541751527495,\n",
       " 'xg_boost_window_[0,3]_thresholding_@p>=0.6': 0.5483706720977597,\n",
       " 'xg_boost_window_[0,6]_top_k_@k=50': 0.44908350305498984,\n",
       " 'xg_boost_window_[0,6]_top_k_@k=60': 0.43890020366598775,\n",
       " 'xg_boost_window_[0,6]_thresholding_@p>=0.5': 0.4974541751527495,\n",
       " 'xg_boost_window_[0,6]_thresholding_@p>=0.6': 0.5483706720977597,\n",
       " 'xg_boost_window_[0,12]_top_k_@k=50': 0.4487704918032787,\n",
       " 'xg_boost_window_[0,12]_top_k_@k=60': 0.4385245901639344,\n",
       " 'xg_boost_window_[0,12]_thresholding_@p>=0.5': 0.5336651053864169,\n",
       " 'xg_boost_window_[0,12]_thresholding_@p>=0.6': 0.5848946135831381}"
      ]
     },
     "metadata": {},
     "output_type": "display_data"
    },
    {
     "name": "stdout",
     "output_type": "stream",
     "text": [
      "Log Loss\n"
     ]
    },
    {
     "data": {
      "text/plain": [
       "{'xg_boost_window_[0,3]_top_k_@k=50': 1.0323053735190355,\n",
       " 'xg_boost_window_[0,3]_top_k_@k=60': 1.0323053735190355,\n",
       " 'xg_boost_window_[0,3]_thresholding_@p>=0.5': 1.0323053735190355,\n",
       " 'xg_boost_window_[0,3]_thresholding_@p>=0.6': 1.0323053735190355,\n",
       " 'xg_boost_window_[0,6]_top_k_@k=50': 1.0323053735190355,\n",
       " 'xg_boost_window_[0,6]_top_k_@k=60': 1.0323053735190355,\n",
       " 'xg_boost_window_[0,6]_thresholding_@p>=0.5': 1.0323053735190355,\n",
       " 'xg_boost_window_[0,6]_thresholding_@p>=0.6': 1.0323053735190355,\n",
       " 'xg_boost_window_[0,12]_top_k_@k=50': 1.0287982163458402,\n",
       " 'xg_boost_window_[0,12]_top_k_@k=60': 1.0287982163458402,\n",
       " 'xg_boost_window_[0,12]_thresholding_@p>=0.5': 1.0287982163458402,\n",
       " 'xg_boost_window_[0,12]_thresholding_@p>=0.6': 1.0287982163458402}"
      ]
     },
     "metadata": {},
     "output_type": "display_data"
    },
    {
     "name": "stdout",
     "output_type": "stream",
     "text": [
      "ROC Score\n"
     ]
    },
    {
     "data": {
      "text/plain": [
       "{'xg_boost_window_[0,3]_top_k_@k=50': 0.5213849287169043,\n",
       " 'xg_boost_window_[0,3]_top_k_@k=60': 0.5213849287169043,\n",
       " 'xg_boost_window_[0,3]_thresholding_@p>=0.5': 0.5213849287169043,\n",
       " 'xg_boost_window_[0,3]_thresholding_@p>=0.6': 0.5213849287169043,\n",
       " 'xg_boost_window_[0,6]_top_k_@k=50': 0.5213849287169043,\n",
       " 'xg_boost_window_[0,6]_top_k_@k=60': 0.5213849287169043,\n",
       " 'xg_boost_window_[0,6]_thresholding_@p>=0.5': 0.5213849287169043,\n",
       " 'xg_boost_window_[0,6]_thresholding_@p>=0.6': 0.5213849287169043,\n",
       " 'xg_boost_window_[0,12]_top_k_@k=50': 0.5638173302107728,\n",
       " 'xg_boost_window_[0,12]_top_k_@k=60': 0.5638173302107728,\n",
       " 'xg_boost_window_[0,12]_thresholding_@p>=0.5': 0.5638173302107728,\n",
       " 'xg_boost_window_[0,12]_thresholding_@p>=0.6': 0.5638173302107728}"
      ]
     },
     "metadata": {},
     "output_type": "display_data"
    },
    {
     "name": "stdout",
     "output_type": "stream",
     "text": [
      "Brier Score Loss\n"
     ]
    },
    {
     "data": {
      "text/plain": [
       "{'xg_boost_window_[0,3]_top_k_@k=50': 0.33702861509737375,\n",
       " 'xg_boost_window_[0,3]_top_k_@k=60': 0.33702861509737375,\n",
       " 'xg_boost_window_[0,3]_thresholding_@p>=0.5': 0.33702861509737375,\n",
       " 'xg_boost_window_[0,3]_thresholding_@p>=0.6': 0.33702861509737375,\n",
       " 'xg_boost_window_[0,6]_top_k_@k=50': 0.33702861509737375,\n",
       " 'xg_boost_window_[0,6]_top_k_@k=60': 0.33702861509737375,\n",
       " 'xg_boost_window_[0,6]_thresholding_@p>=0.5': 0.33702861509737375,\n",
       " 'xg_boost_window_[0,6]_thresholding_@p>=0.6': 0.33702861509737375,\n",
       " 'xg_boost_window_[0,12]_top_k_@k=50': 0.335493948430707,\n",
       " 'xg_boost_window_[0,12]_top_k_@k=60': 0.335493948430707,\n",
       " 'xg_boost_window_[0,12]_thresholding_@p>=0.5': 0.335493948430707,\n",
       " 'xg_boost_window_[0,12]_thresholding_@p>=0.6': 0.335493948430707}"
      ]
     },
     "metadata": {},
     "output_type": "display_data"
    },
    {
     "name": "stdout",
     "output_type": "stream",
     "text": [
      "Precision\n"
     ]
    },
    {
     "data": {
      "text/plain": [
       "{'sgmm_window_[0,3]_top_k_@k=50': 0.0,\n",
       " 'sgmm_window_[0,3]_top_k_@k=60': 0.0,\n",
       " 'sgmm_window_[0,3]_thresholding_@p>=0.5': 0.01276595744680851,\n",
       " 'sgmm_window_[0,3]_thresholding_@p>=0.6': 0.0051813471502590676,\n",
       " 'sgmm_window_[0,6]_top_k_@k=50': 0.0,\n",
       " 'sgmm_window_[0,6]_top_k_@k=60': 0.0,\n",
       " 'sgmm_window_[0,6]_thresholding_@p>=0.5': 0.01276595744680851,\n",
       " 'sgmm_window_[0,6]_thresholding_@p>=0.6': 0.0051813471502590676,\n",
       " 'sgmm_window_[0,12]_top_k_@k=50': 0.02,\n",
       " 'sgmm_window_[0,12]_top_k_@k=60': 0.016666666666666666,\n",
       " 'sgmm_window_[0,12]_thresholding_@p>=0.5': 0.01702127659574468,\n",
       " 'sgmm_window_[0,12]_thresholding_@p>=0.6': 0.010362694300518135}"
      ]
     },
     "metadata": {},
     "output_type": "display_data"
    },
    {
     "name": "stdout",
     "output_type": "stream",
     "text": [
      "Recall\n"
     ]
    },
    {
     "data": {
      "text/plain": [
       "{'sgmm_window_[0,3]_top_k_@k=50': 0.0,\n",
       " 'sgmm_window_[0,3]_top_k_@k=60': 0.0,\n",
       " 'sgmm_window_[0,3]_thresholding_@p>=0.5': 0.75,\n",
       " 'sgmm_window_[0,3]_thresholding_@p>=0.6': 0.25,\n",
       " 'sgmm_window_[0,6]_top_k_@k=50': 0.0,\n",
       " 'sgmm_window_[0,6]_top_k_@k=60': 0.0,\n",
       " 'sgmm_window_[0,6]_thresholding_@p>=0.5': 0.75,\n",
       " 'sgmm_window_[0,6]_thresholding_@p>=0.6': 0.25,\n",
       " 'sgmm_window_[0,12]_top_k_@k=50': 0.14285714285714285,\n",
       " 'sgmm_window_[0,12]_top_k_@k=60': 0.14285714285714285,\n",
       " 'sgmm_window_[0,12]_thresholding_@p>=0.5': 0.5714285714285714,\n",
       " 'sgmm_window_[0,12]_thresholding_@p>=0.6': 0.2857142857142857}"
      ]
     },
     "metadata": {},
     "output_type": "display_data"
    },
    {
     "name": "stdout",
     "output_type": "stream",
     "text": [
      "F1_Score\n"
     ]
    },
    {
     "data": {
      "text/plain": [
       "{'sgmm_window_[0,3]_top_k_@k=50': 0.0,\n",
       " 'sgmm_window_[0,3]_top_k_@k=60': 0.0,\n",
       " 'sgmm_window_[0,3]_thresholding_@p>=0.5': 0.02510460251046025,\n",
       " 'sgmm_window_[0,3]_thresholding_@p>=0.6': 0.01015228426395939,\n",
       " 'sgmm_window_[0,6]_top_k_@k=50': 0.0,\n",
       " 'sgmm_window_[0,6]_top_k_@k=60': 0.0,\n",
       " 'sgmm_window_[0,6]_thresholding_@p>=0.5': 0.02510460251046025,\n",
       " 'sgmm_window_[0,6]_thresholding_@p>=0.6': 0.01015228426395939,\n",
       " 'sgmm_window_[0,12]_top_k_@k=50': 0.03508771929824562,\n",
       " 'sgmm_window_[0,12]_top_k_@k=60': 0.029850746268656716,\n",
       " 'sgmm_window_[0,12]_thresholding_@p>=0.5': 0.033057851239669415,\n",
       " 'sgmm_window_[0,12]_thresholding_@p>=0.6': 0.02}"
      ]
     },
     "metadata": {},
     "output_type": "display_data"
    },
    {
     "name": "stdout",
     "output_type": "stream",
     "text": [
      "Accuracy\n"
     ]
    },
    {
     "data": {
      "text/plain": [
       "{'sgmm_window_[0,3]_top_k_@k=50': 0.0,\n",
       " 'sgmm_window_[0,3]_top_k_@k=60': 0.0,\n",
       " 'sgmm_window_[0,3]_thresholding_@p>=0.5': 0.75,\n",
       " 'sgmm_window_[0,3]_thresholding_@p>=0.6': 0.25,\n",
       " 'sgmm_window_[0,6]_top_k_@k=50': 0.0,\n",
       " 'sgmm_window_[0,6]_top_k_@k=60': 0.0,\n",
       " 'sgmm_window_[0,6]_thresholding_@p>=0.5': 0.75,\n",
       " 'sgmm_window_[0,6]_thresholding_@p>=0.6': 0.25,\n",
       " 'sgmm_window_[0,12]_top_k_@k=50': 0.14285714285714285,\n",
       " 'sgmm_window_[0,12]_top_k_@k=60': 0.14285714285714285,\n",
       " 'sgmm_window_[0,12]_thresholding_@p>=0.5': 0.5714285714285714,\n",
       " 'sgmm_window_[0,12]_thresholding_@p>=0.6': 0.2857142857142857}"
      ]
     },
     "metadata": {},
     "output_type": "display_data"
    },
    {
     "name": "stdout",
     "output_type": "stream",
     "text": [
      "Confusion Matrix\n"
     ]
    },
    {
     "data": {
      "text/plain": [
       "{'sgmm_window_[0,3]_top_k_@k=50': array([[441,  50],\n",
       "        [  4,   0]], dtype=int64),\n",
       " 'sgmm_window_[0,3]_top_k_@k=60': array([[431,  60],\n",
       "        [  4,   0]], dtype=int64),\n",
       " 'sgmm_window_[0,3]_thresholding_@p>=0.5': array([[259, 232],\n",
       "        [  1,   3]], dtype=int64),\n",
       " 'sgmm_window_[0,3]_thresholding_@p>=0.6': array([[299, 192],\n",
       "        [  3,   1]], dtype=int64),\n",
       " 'sgmm_window_[0,6]_top_k_@k=50': array([[441,  50],\n",
       "        [  4,   0]], dtype=int64),\n",
       " 'sgmm_window_[0,6]_top_k_@k=60': array([[431,  60],\n",
       "        [  4,   0]], dtype=int64),\n",
       " 'sgmm_window_[0,6]_thresholding_@p>=0.5': array([[259, 232],\n",
       "        [  1,   3]], dtype=int64),\n",
       " 'sgmm_window_[0,6]_thresholding_@p>=0.6': array([[299, 192],\n",
       "        [  3,   1]], dtype=int64),\n",
       " 'sgmm_window_[0,12]_top_k_@k=50': array([[439,  49],\n",
       "        [  6,   1]], dtype=int64),\n",
       " 'sgmm_window_[0,12]_top_k_@k=60': array([[429,  59],\n",
       "        [  6,   1]], dtype=int64),\n",
       " 'sgmm_window_[0,12]_thresholding_@p>=0.5': array([[257, 231],\n",
       "        [  3,   4]], dtype=int64),\n",
       " 'sgmm_window_[0,12]_thresholding_@p>=0.6': array([[297, 191],\n",
       "        [  5,   2]], dtype=int64)}"
      ]
     },
     "metadata": {},
     "output_type": "display_data"
    },
    {
     "name": "stdout",
     "output_type": "stream",
     "text": [
      "Balanced Acc\n"
     ]
    },
    {
     "data": {
      "text/plain": [
       "{'sgmm_window_[0,3]_top_k_@k=50': 0.44908350305498984,\n",
       " 'sgmm_window_[0,3]_top_k_@k=60': 0.43890020366598775,\n",
       " 'sgmm_window_[0,3]_thresholding_@p>=0.5': 0.6387474541751528,\n",
       " 'sgmm_window_[0,3]_thresholding_@p>=0.6': 0.4294806517311609,\n",
       " 'sgmm_window_[0,6]_top_k_@k=50': 0.44908350305498984,\n",
       " 'sgmm_window_[0,6]_top_k_@k=60': 0.43890020366598775,\n",
       " 'sgmm_window_[0,6]_thresholding_@p>=0.5': 0.6387474541751528,\n",
       " 'sgmm_window_[0,6]_thresholding_@p>=0.6': 0.4294806517311609,\n",
       " 'sgmm_window_[0,12]_top_k_@k=50': 0.5212236533957846,\n",
       " 'sgmm_window_[0,12]_top_k_@k=60': 0.5109777517564402,\n",
       " 'sgmm_window_[0,12]_thresholding_@p>=0.5': 0.5490339578454333,\n",
       " 'sgmm_window_[0,12]_thresholding_@p>=0.6': 0.44716042154566743}"
      ]
     },
     "metadata": {},
     "output_type": "display_data"
    },
    {
     "name": "stdout",
     "output_type": "stream",
     "text": [
      "Log Loss\n"
     ]
    },
    {
     "data": {
      "text/plain": [
       "{'sgmm_window_[0,3]_top_k_@k=50': 0.9541151044339882,\n",
       " 'sgmm_window_[0,3]_top_k_@k=60': 0.9541151044339882,\n",
       " 'sgmm_window_[0,3]_thresholding_@p>=0.5': 0.9541151044339882,\n",
       " 'sgmm_window_[0,3]_thresholding_@p>=0.6': 0.9541151044339882,\n",
       " 'sgmm_window_[0,6]_top_k_@k=50': 0.9541151044339882,\n",
       " 'sgmm_window_[0,6]_top_k_@k=60': 0.9541151044339882,\n",
       " 'sgmm_window_[0,6]_thresholding_@p>=0.5': 0.9541151044339882,\n",
       " 'sgmm_window_[0,6]_thresholding_@p>=0.6': 0.9541151044339882,\n",
       " 'sgmm_window_[0,12]_top_k_@k=50': 0.9565160929108135,\n",
       " 'sgmm_window_[0,12]_top_k_@k=60': 0.9565160929108135,\n",
       " 'sgmm_window_[0,12]_thresholding_@p>=0.5': 0.9565160929108135,\n",
       " 'sgmm_window_[0,12]_thresholding_@p>=0.6': 0.9565160929108135}"
      ]
     },
     "metadata": {},
     "output_type": "display_data"
    },
    {
     "name": "stdout",
     "output_type": "stream",
     "text": [
      "ROC Score\n"
     ]
    },
    {
     "data": {
      "text/plain": [
       "{'sgmm_window_[0,3]_top_k_@k=50': 0.5835030549898167,\n",
       " 'sgmm_window_[0,3]_top_k_@k=60': 0.5835030549898167,\n",
       " 'sgmm_window_[0,3]_thresholding_@p>=0.5': 0.5835030549898167,\n",
       " 'sgmm_window_[0,3]_thresholding_@p>=0.6': 0.5835030549898167,\n",
       " 'sgmm_window_[0,6]_top_k_@k=50': 0.5835030549898167,\n",
       " 'sgmm_window_[0,6]_top_k_@k=60': 0.5835030549898167,\n",
       " 'sgmm_window_[0,6]_thresholding_@p>=0.5': 0.5835030549898167,\n",
       " 'sgmm_window_[0,6]_thresholding_@p>=0.6': 0.5835030549898167,\n",
       " 'sgmm_window_[0,12]_top_k_@k=50': 0.5181498829039812,\n",
       " 'sgmm_window_[0,12]_top_k_@k=60': 0.5181498829039812,\n",
       " 'sgmm_window_[0,12]_thresholding_@p>=0.5': 0.5181498829039812,\n",
       " 'sgmm_window_[0,12]_thresholding_@p>=0.6': 0.5181498829039812}"
      ]
     },
     "metadata": {},
     "output_type": "display_data"
    },
    {
     "name": "stdout",
     "output_type": "stream",
     "text": [
      "Brier Score Loss\n"
     ]
    },
    {
     "data": {
      "text/plain": [
       "{'sgmm_window_[0,3]_top_k_@k=50': 0.3191272124830303,\n",
       " 'sgmm_window_[0,3]_top_k_@k=60': 0.3191272124830303,\n",
       " 'sgmm_window_[0,3]_thresholding_@p>=0.5': 0.3191272124830303,\n",
       " 'sgmm_window_[0,3]_thresholding_@p>=0.6': 0.3191272124830303,\n",
       " 'sgmm_window_[0,6]_top_k_@k=50': 0.3191272124830303,\n",
       " 'sgmm_window_[0,6]_top_k_@k=60': 0.3191272124830303,\n",
       " 'sgmm_window_[0,6]_thresholding_@p>=0.5': 0.3191272124830303,\n",
       " 'sgmm_window_[0,6]_thresholding_@p>=0.6': 0.3191272124830303,\n",
       " 'sgmm_window_[0,12]_top_k_@k=50': 0.3200993740991919,\n",
       " 'sgmm_window_[0,12]_top_k_@k=60': 0.3200993740991919,\n",
       " 'sgmm_window_[0,12]_thresholding_@p>=0.5': 0.3200993740991919,\n",
       " 'sgmm_window_[0,12]_thresholding_@p>=0.6': 0.3200993740991919}"
      ]
     },
     "metadata": {},
     "output_type": "display_data"
    }
   ],
   "source": [
    "for c_p in predictions:    \n",
    "    prediction=Helper.read_file(directory=c_p['dir'],file=c_p['file'],file_format=c_p['file_format'],aws=c_p['aws'],bucket= c_p['bucket'])\n",
    "    referrals=Helper.read_file(directory=c_r['dir'],file=c_r['file'],file_format=c_r['file_format'],aws=c_r['aws'],bucket= c_r['bucket'])\n",
    "    \n",
    "    #TBD Implement a check that there is a match between prediction and evaluation file.\n",
    "    \n",
    "    all_model_evaluations = Evaluate.evaluate(c_p, c_e, c_r, referrals, prediction) \n",
    "    Present.present_evaluation(c_p, c_r, c_e, c_visual, all_model_evaluations)"
   ]
  }
 ],
 "metadata": {
  "kernelspec": {
   "display_name": "Python 3",
   "language": "python",
   "name": "python3"
  },
  "language_info": {
   "codemirror_mode": {
    "name": "ipython",
    "version": 3
   },
   "file_extension": ".py",
   "mimetype": "text/x-python",
   "name": "python",
   "nbconvert_exporter": "python",
   "pygments_lexer": "ipython3",
   "version": "3.7.3"
  }
 },
 "nbformat": 4,
 "nbformat_minor": 4
}
