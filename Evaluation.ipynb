{
 "cells": [
  {
   "cell_type": "markdown",
   "metadata": {},
   "source": [
    "# This is an Notebook which can evalute multiple files.  It implements a number of features:\n",
    "\n",
    "- TopK\n",
    "- Removing recent referrals\n",
    "- Thresholding \n",
    "- Tables and visualization\n",
    "- Config files for standardized processes. \n",
    "\n"
   ]
  },
  {
   "cell_type": "code",
   "execution_count": 5,
   "metadata": {},
   "outputs": [],
   "source": [
    "%reload_ext autoreload\n",
    "%autoreload 2\n",
    "#ignore warnings.\n",
    "def warn(*args, **kwargs):\n",
    "    pass\n",
    "import warnings\n",
    "warnings.warn = warn\n",
    "\n",
    "#imports\n",
    "import pandas as pd\n",
    "import os, sys\n",
    "import importlib\n",
    "import yaml, json\n",
    "from pathlib import Path\n",
    "\n",
    "#path append\n",
    "sys.path.append(os.path.join(Path.cwd(), 'modules'))\n",
    "import Evaluate, Helper, Present, Score, Synthetic\n"
   ]
  },
  {
   "cell_type": "markdown",
   "metadata": {},
   "source": [
    "<H3> Imports</H3>"
   ]
  },
  {
   "cell_type": "markdown",
   "metadata": {},
   "source": [
    "### File configuration\n",
    "<p> Just edit the configuration file path/address. prediction_files contain configs for different prediction files. config_file contains other configs for referral, visualization, experiment etc. </p>"
   ]
  },
  {
   "cell_type": "code",
   "execution_count": 6,
   "metadata": {},
   "outputs": [],
   "source": [
    "#multiple prediction file load still works, just loaded a single file because too many things are being displayed otherwise.\n",
    "config_file = 'config/config.yaml'\n",
    "#prediction_config_files = ['config/predictions/pred1.yaml', 'config/predictions/pred2.yaml']\n",
    "prediction_config_files = ['config/predictions/pred1.yaml']\n",
    "generate_data=False \n"
   ]
  },
  {
   "cell_type": "markdown",
   "metadata": {},
   "source": [
    "### Load Configuration and Referrals"
   ]
  },
  {
   "cell_type": "code",
   "execution_count": 7,
   "metadata": {},
   "outputs": [],
   "source": [
    "'''\n",
    "Transferred referral data loading inside the c_p for loop below, because referral_data is being changed for date format adjustment. \n",
    "As referral_data.copy() is not allowed for memory issues. The overhead shouldn't be much.\n",
    "'''\n",
    "\n",
    "#Load Configuration\n",
    "c_r, c_e, c_gen, c_aws, c_visual, predictions=Helper.load_configuration(config_file, prediction_config_files)\n",
    "\n",
    "#Generate Data (if required)\n",
    "if generate_data:\n",
    "    Synthetic.generate_synthetic_event_data(c_gen)\n",
    "    Synthetic.generate_synthetic_prediction_data(c_gen)"
   ]
  },
  {
   "cell_type": "markdown",
   "metadata": {},
   "source": [
    "### Evaluate Models\n",
    "For each configuration file provided it will evaluate the models. "
   ]
  },
  {
   "cell_type": "code",
   "execution_count": 8,
   "metadata": {},
   "outputs": [],
   "source": [
    "for c_p in predictions:    \n",
    "    prediction=Helper.read_file(directory=c_p['dir'],file=c_p['file'],file_format=c_p['file_format'],aws=c_p['aws'],bucket= c_p['bucket'])\n",
    "    referrals=Helper.read_file(directory=c_r['dir'],file=c_r['file'],file_format=c_r['file_format'],aws=c_r['aws'],bucket= c_r['bucket'])\n",
    "    \n",
    "    #eval date extract\n",
    "    date_list = Helper.eval_date_extract(c_p, prediction)\n",
    "    \n",
    "    #run evaluation for all eval dates\n",
    "    for eval_date in date_list:\n",
    "        c_e['eval_date'] = eval_date\n",
    "        all_model_evaluations = Evaluate.evaluate(c_p, c_e, c_r, referrals, prediction) \n",
    "        Present.present_evaluation(c_p, c_r, c_e, c_visual, eval_date, all_model_evaluations)"
   ]
  }
 ],
 "metadata": {
  "kernelspec": {
   "display_name": "Python 3",
   "language": "python",
   "name": "python3"
  },
  "language_info": {
   "codemirror_mode": {
    "name": "ipython",
    "version": 3
   },
   "file_extension": ".py",
   "mimetype": "text/x-python",
   "name": "python",
   "nbconvert_exporter": "python",
   "pygments_lexer": "ipython3",
   "version": "3.7.7"
  }
 },
 "nbformat": 4,
 "nbformat_minor": 4
}
